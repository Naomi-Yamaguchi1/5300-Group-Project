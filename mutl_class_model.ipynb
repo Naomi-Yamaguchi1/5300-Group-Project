{
 "cells": [
  {
   "cell_type": "code",
   "execution_count": 13,
   "metadata": {
    "vscode": {
     "languageId": "r"
    }
   },
   "outputs": [
    {
     "name": "stderr",
     "output_type": "stream",
     "text": [
      "-- \u001b[1mAttaching core tidyverse packages\u001b[22m ------------------------ tidyverse 2.0.0 --\n",
      "\u001b[32mv\u001b[39m \u001b[34mdplyr    \u001b[39m 1.1.2     \u001b[32mv\u001b[39m \u001b[34mreadr    \u001b[39m 2.1.4\n",
      "\u001b[32mv\u001b[39m \u001b[34mforcats  \u001b[39m 1.0.0     \u001b[32mv\u001b[39m \u001b[34mstringr  \u001b[39m 1.5.0\n",
      "\u001b[32mv\u001b[39m \u001b[34mlubridate\u001b[39m 1.9.2     \u001b[32mv\u001b[39m \u001b[34mtibble   \u001b[39m 3.2.1\n",
      "\u001b[32mv\u001b[39m \u001b[34mpurrr    \u001b[39m 1.0.2     \u001b[32mv\u001b[39m \u001b[34mtidyr    \u001b[39m 1.3.0\n",
      "-- \u001b[1mConflicts\u001b[22m ------------------------------------------ tidyverse_conflicts() --\n",
      "\u001b[31mx\u001b[39m \u001b[34mdplyr\u001b[39m::\u001b[32mcombine()\u001b[39m  masks \u001b[34mrandomForest\u001b[39m::combine()\n",
      "\u001b[31mx\u001b[39m \u001b[34mdplyr\u001b[39m::\u001b[32mfilter()\u001b[39m   masks \u001b[34mstats\u001b[39m::filter()\n",
      "\u001b[31mx\u001b[39m \u001b[34mdplyr\u001b[39m::\u001b[32mlag()\u001b[39m      masks \u001b[34mstats\u001b[39m::lag()\n",
      "\u001b[31mx\u001b[39m \u001b[34mpurrr\u001b[39m::\u001b[32mlift()\u001b[39m     masks \u001b[34mcaret\u001b[39m::lift()\n",
      "\u001b[31mx\u001b[39m \u001b[34mggplot2\u001b[39m::\u001b[32mmargin()\u001b[39m masks \u001b[34mrandomForest\u001b[39m::margin()\n",
      "\u001b[36mi\u001b[39m Use the conflicted package (\u001b[3m\u001b[34m<http://conflicted.r-lib.org/>\u001b[39m\u001b[23m) to force all conflicts to become errors\n",
      "corrplot 0.92 loaded\n",
      "\n",
      "Loading required package: boot\n",
      "\n",
      "\n",
      "Attaching package: 'boot'\n",
      "\n",
      "\n",
      "The following object is masked from 'package:lattice':\n",
      "\n",
      "    melanoma\n",
      "\n",
      "\n",
      "Type 'citation(\"pROC\")' for a citation.\n",
      "\n",
      "\n",
      "Attaching package: 'pROC'\n",
      "\n",
      "\n",
      "The following objects are masked from 'package:stats':\n",
      "\n",
      "    cov, smooth, var\n",
      "\n",
      "\n"
     ]
    }
   ],
   "source": [
    "library(tidyverse)\n",
    "library(modeldata)\n",
    "library(leaps)\n",
    "library(nnet)\n",
    "library(caret)\n",
    "library(corrplot)\n",
    "library(ISLR)\n",
    "require(boot)\n",
    "library(pROC)"
   ]
  },
  {
   "cell_type": "code",
   "execution_count": 7,
   "metadata": {
    "vscode": {
     "languageId": "r"
    }
   },
   "outputs": [
    {
     "data": {
      "text/html": [
       "<table class=\"dataframe\">\n",
       "<caption>A data.frame: 6 x 23</caption>\n",
       "<thead>\n",
       "\t<tr><th></th><th scope=col>age</th><th scope=col>sg</th><th scope=col>al</th><th scope=col>su</th><th scope=col>bgr</th><th scope=col>bu</th><th scope=col>sod</th><th scope=col>pot</th><th scope=col>hemo</th><th scope=col>pcv</th><th scope=col>...</th><th scope=col>pc</th><th scope=col>pcc</th><th scope=col>ba</th><th scope=col>htn</th><th scope=col>dm</th><th scope=col>cad</th><th scope=col>appet</th><th scope=col>pe</th><th scope=col>ane</th><th scope=col>class</th></tr>\n",
       "\t<tr><th></th><th scope=col>&lt;dbl&gt;</th><th scope=col>&lt;dbl&gt;</th><th scope=col>&lt;int&gt;</th><th scope=col>&lt;int&gt;</th><th scope=col>&lt;dbl&gt;</th><th scope=col>&lt;dbl&gt;</th><th scope=col>&lt;dbl&gt;</th><th scope=col>&lt;dbl&gt;</th><th scope=col>&lt;dbl&gt;</th><th scope=col>&lt;dbl&gt;</th><th scope=col>...</th><th scope=col>&lt;int&gt;</th><th scope=col>&lt;int&gt;</th><th scope=col>&lt;int&gt;</th><th scope=col>&lt;int&gt;</th><th scope=col>&lt;int&gt;</th><th scope=col>&lt;int&gt;</th><th scope=col>&lt;int&gt;</th><th scope=col>&lt;int&gt;</th><th scope=col>&lt;int&gt;</th><th scope=col>&lt;int&gt;</th></tr>\n",
       "</thead>\n",
       "<tbody>\n",
       "\t<tr><th scope=row>1</th><td>48</td><td>1.020</td><td>1</td><td>0</td><td>121.00</td><td>36</td><td>137.53</td><td>4.63</td><td>15.4</td><td>44</td><td>...</td><td>2</td><td>1</td><td>1</td><td>2</td><td>2</td><td>1</td><td>1</td><td>1</td><td>1</td><td>1</td></tr>\n",
       "\t<tr><th scope=row>2</th><td> 7</td><td>1.020</td><td>4</td><td>0</td><td>148.04</td><td>18</td><td>137.53</td><td>4.63</td><td>11.3</td><td>38</td><td>...</td><td>2</td><td>1</td><td>1</td><td>1</td><td>1</td><td>1</td><td>1</td><td>1</td><td>1</td><td>1</td></tr>\n",
       "\t<tr><th scope=row>3</th><td>62</td><td>1.010</td><td>2</td><td>3</td><td>423.00</td><td>53</td><td>137.53</td><td>4.63</td><td> 9.6</td><td>31</td><td>...</td><td>2</td><td>1</td><td>1</td><td>1</td><td>2</td><td>1</td><td>2</td><td>1</td><td>2</td><td>1</td></tr>\n",
       "\t<tr><th scope=row>4</th><td>48</td><td>1.005</td><td>4</td><td>0</td><td>117.00</td><td>56</td><td>111.00</td><td>2.50</td><td>11.2</td><td>32</td><td>...</td><td>1</td><td>2</td><td>1</td><td>2</td><td>1</td><td>1</td><td>2</td><td>2</td><td>2</td><td>2</td></tr>\n",
       "\t<tr><th scope=row>5</th><td>51</td><td>1.010</td><td>2</td><td>0</td><td>106.00</td><td>26</td><td>137.53</td><td>4.63</td><td>11.6</td><td>35</td><td>...</td><td>2</td><td>1</td><td>1</td><td>1</td><td>1</td><td>1</td><td>1</td><td>1</td><td>1</td><td>1</td></tr>\n",
       "\t<tr><th scope=row>6</th><td>60</td><td>1.015</td><td>3</td><td>0</td><td> 74.00</td><td>25</td><td>142.00</td><td>3.20</td><td>12.2</td><td>39</td><td>...</td><td>2</td><td>1</td><td>1</td><td>2</td><td>2</td><td>1</td><td>1</td><td>2</td><td>1</td><td>1</td></tr>\n",
       "</tbody>\n",
       "</table>\n"
      ],
      "text/latex": [
       "A data.frame: 6 x 23\n",
       "\\begin{tabular}{r|lllllllllllllllllllll}\n",
       "  & age & sg & al & su & bgr & bu & sod & pot & hemo & pcv & ... & pc & pcc & ba & htn & dm & cad & appet & pe & ane & class\\\\\n",
       "  & <dbl> & <dbl> & <int> & <int> & <dbl> & <dbl> & <dbl> & <dbl> & <dbl> & <dbl> & ... & <int> & <int> & <int> & <int> & <int> & <int> & <int> & <int> & <int> & <int>\\\\\n",
       "\\hline\n",
       "\t1 & 48 & 1.020 & 1 & 0 & 121.00 & 36 & 137.53 & 4.63 & 15.4 & 44 & ... & 2 & 1 & 1 & 2 & 2 & 1 & 1 & 1 & 1 & 1\\\\\n",
       "\t2 &  7 & 1.020 & 4 & 0 & 148.04 & 18 & 137.53 & 4.63 & 11.3 & 38 & ... & 2 & 1 & 1 & 1 & 1 & 1 & 1 & 1 & 1 & 1\\\\\n",
       "\t3 & 62 & 1.010 & 2 & 3 & 423.00 & 53 & 137.53 & 4.63 &  9.6 & 31 & ... & 2 & 1 & 1 & 1 & 2 & 1 & 2 & 1 & 2 & 1\\\\\n",
       "\t4 & 48 & 1.005 & 4 & 0 & 117.00 & 56 & 111.00 & 2.50 & 11.2 & 32 & ... & 1 & 2 & 1 & 2 & 1 & 1 & 2 & 2 & 2 & 2\\\\\n",
       "\t5 & 51 & 1.010 & 2 & 0 & 106.00 & 26 & 137.53 & 4.63 & 11.6 & 35 & ... & 2 & 1 & 1 & 1 & 1 & 1 & 1 & 1 & 1 & 1\\\\\n",
       "\t6 & 60 & 1.015 & 3 & 0 &  74.00 & 25 & 142.00 & 3.20 & 12.2 & 39 & ... & 2 & 1 & 1 & 2 & 2 & 1 & 1 & 2 & 1 & 1\\\\\n",
       "\\end{tabular}\n"
      ],
      "text/markdown": [
       "\n",
       "A data.frame: 6 x 23\n",
       "\n",
       "| <!--/--> | age &lt;dbl&gt; | sg &lt;dbl&gt; | al &lt;int&gt; | su &lt;int&gt; | bgr &lt;dbl&gt; | bu &lt;dbl&gt; | sod &lt;dbl&gt; | pot &lt;dbl&gt; | hemo &lt;dbl&gt; | pcv &lt;dbl&gt; | ... ... | pc &lt;int&gt; | pcc &lt;int&gt; | ba &lt;int&gt; | htn &lt;int&gt; | dm &lt;int&gt; | cad &lt;int&gt; | appet &lt;int&gt; | pe &lt;int&gt; | ane &lt;int&gt; | class &lt;int&gt; |\n",
       "|---|---|---|---|---|---|---|---|---|---|---|---|---|---|---|---|---|---|---|---|---|---|\n",
       "| 1 | 48 | 1.020 | 1 | 0 | 121.00 | 36 | 137.53 | 4.63 | 15.4 | 44 | ... | 2 | 1 | 1 | 2 | 2 | 1 | 1 | 1 | 1 | 1 |\n",
       "| 2 |  7 | 1.020 | 4 | 0 | 148.04 | 18 | 137.53 | 4.63 | 11.3 | 38 | ... | 2 | 1 | 1 | 1 | 1 | 1 | 1 | 1 | 1 | 1 |\n",
       "| 3 | 62 | 1.010 | 2 | 3 | 423.00 | 53 | 137.53 | 4.63 |  9.6 | 31 | ... | 2 | 1 | 1 | 1 | 2 | 1 | 2 | 1 | 2 | 1 |\n",
       "| 4 | 48 | 1.005 | 4 | 0 | 117.00 | 56 | 111.00 | 2.50 | 11.2 | 32 | ... | 1 | 2 | 1 | 2 | 1 | 1 | 2 | 2 | 2 | 2 |\n",
       "| 5 | 51 | 1.010 | 2 | 0 | 106.00 | 26 | 137.53 | 4.63 | 11.6 | 35 | ... | 2 | 1 | 1 | 1 | 1 | 1 | 1 | 1 | 1 | 1 |\n",
       "| 6 | 60 | 1.015 | 3 | 0 |  74.00 | 25 | 142.00 | 3.20 | 12.2 | 39 | ... | 2 | 1 | 1 | 2 | 2 | 1 | 1 | 2 | 1 | 1 |\n",
       "\n"
      ],
      "text/plain": [
       "  age sg    al su bgr    bu sod    pot  hemo pcv ... pc pcc ba htn dm cad appet\n",
       "1 48  1.020 1  0  121.00 36 137.53 4.63 15.4 44  ... 2  1   1  2   2  1   1    \n",
       "2  7  1.020 4  0  148.04 18 137.53 4.63 11.3 38  ... 2  1   1  1   1  1   1    \n",
       "3 62  1.010 2  3  423.00 53 137.53 4.63  9.6 31  ... 2  1   1  1   2  1   2    \n",
       "4 48  1.005 4  0  117.00 56 111.00 2.50 11.2 32  ... 1  2   1  2   1  1   2    \n",
       "5 51  1.010 2  0  106.00 26 137.53 4.63 11.6 35  ... 2  1   1  1   1  1   1    \n",
       "6 60  1.015 3  0   74.00 25 142.00 3.20 12.2 39  ... 2  1   1  2   2  1   1    \n",
       "  pe ane class\n",
       "1 1  1   1    \n",
       "2 1  1   1    \n",
       "3 1  2   1    \n",
       "4 2  2   2    \n",
       "5 1  1   1    \n",
       "6 2  1   1    "
      ]
     },
     "metadata": {},
     "output_type": "display_data"
    }
   ],
   "source": [
    "# import the data from the file\n",
    "\n",
    "data <- read.csv(\"data/clean_data/for_model_kidney_disease_multi.csv\")\n",
    "head(data)\n",
    "\n",
    "# transform columns into factors\n",
    "data$class <- as.factor(data$class)"
   ]
  },
  {
   "cell_type": "code",
   "execution_count": 8,
   "metadata": {
    "vscode": {
     "languageId": "r"
    }
   },
   "outputs": [
    {
     "name": "stdout",
     "output_type": "stream",
     "text": [
      "# weights:  72 (46 variable)\n",
      "initial  value 352.654545 \n",
      "iter  10 value 268.218914\n",
      "iter  20 value 158.466938\n",
      "iter  30 value 112.782411\n",
      "iter  40 value 101.671721\n",
      "iter  50 value 91.419456\n",
      "iter  60 value 90.564696\n",
      "iter  70 value 90.321824\n",
      "iter  80 value 90.134663\n",
      "iter  90 value 89.806817\n",
      "iter 100 value 89.696320\n",
      "final  value 89.696320 \n",
      "stopped after 100 iterations\n"
     ]
    },
    {
     "data": {
      "text/plain": [
       "Call:\n",
       "multinom(formula = class ~ ., data = data_train)\n",
       "\n",
       "Coefficients:\n",
       "  (Intercept)        age        sg       al        su        bgr         bu\n",
       "1    42.70135 0.06326376 50.221947 18.51979 -1.353595 0.07423740 0.08962598\n",
       "2    91.41325 0.07297753  6.614984 18.48372 -1.345413 0.07744796 0.16761114\n",
       "         sod       pot       hemo        pcv          wbcc      rbcc       rbc\n",
       "1 -0.2967963 -1.656331 -0.7216016 -0.6778806 -1.414049e-05 -1.572802 -6.927593\n",
       "2 -0.3348193 -1.706501 -1.2528211 -0.5537296  7.078045e-05 -1.901007 -7.302573\n",
       "         pc       pcc       ba      htn       dm       cad     appet       pe\n",
       "1 -11.84251 -20.11621 13.60962 1.701821 4.942768 -8.636185  9.189753 3.379109\n",
       "2 -11.72347 -20.66535 13.70993 1.634168 4.113746 -8.046486 10.201541 2.664608\n",
       "       ane\n",
       "1 17.39607\n",
       "2 17.12071\n",
       "\n",
       "Std. Errors:\n",
       "   (Intercept)        age           sg         al         su        bgr\n",
       "1 0.0001836983 0.02417805 0.0001923329 0.07469432 0.01105311 0.02168705\n",
       "2 0.0001775143 0.02562118 0.0001866783 0.07469431 0.01104323 0.02175524\n",
       "          bu        sod         pot        hemo        pcv         wbcc\n",
       "1 0.02695439 0.02576523 0.001595558 0.006333600 0.01870834 0.0002841577\n",
       "2 0.02893202 0.02670631 0.001645926 0.005730633 0.01859429 0.0002924309\n",
       "         rbcc         rbc         pc        pcc          ba         htn\n",
       "1 0.001495741 0.008740315 0.01329316 0.01076112 0.006955791 0.001073826\n",
       "2 0.001592069 0.008730766 0.01329326 0.01075892 0.006954881 0.001055865\n",
       "            dm         cad       appet          pe         ane\n",
       "1 0.0009737555 0.001570218 0.001258763 0.003919804 0.002021581\n",
       "2 0.0009593914 0.001577879 0.001304434 0.003921276 0.002029275\n",
       "\n",
       "Residual Deviance: 179.3926 \n",
       "AIC: 271.3926 "
      ]
     },
     "metadata": {},
     "output_type": "display_data"
    },
    {
     "data": {
      "text/html": [
       "<style>\n",
       ".list-inline {list-style: none; margin:0; padding: 0}\n",
       ".list-inline>li {display: inline-block}\n",
       ".list-inline>li:not(:last-child)::after {content: \"\\00b7\"; padding: 0 .5ex}\n",
       "</style>\n",
       "<ol class=list-inline><li>2</li><li>2</li><li>1</li><li>2</li><li>2</li><li>2</li></ol>\n",
       "\n",
       "<details>\n",
       "\t<summary style=display:list-item;cursor:pointer>\n",
       "\t\t<strong>Levels</strong>:\n",
       "\t</summary>\n",
       "\t<style>\n",
       "\t.list-inline {list-style: none; margin:0; padding: 0}\n",
       "\t.list-inline>li {display: inline-block}\n",
       "\t.list-inline>li:not(:last-child)::after {content: \"\\00b7\"; padding: 0 .5ex}\n",
       "\t</style>\n",
       "\t<ol class=list-inline><li>'0'</li><li>'1'</li><li>'2'</li></ol>\n",
       "</details>"
      ],
      "text/latex": [
       "\\begin{enumerate*}\n",
       "\\item 2\n",
       "\\item 2\n",
       "\\item 1\n",
       "\\item 2\n",
       "\\item 2\n",
       "\\item 2\n",
       "\\end{enumerate*}\n",
       "\n",
       "\\emph{Levels}: \\begin{enumerate*}\n",
       "\\item '0'\n",
       "\\item '1'\n",
       "\\item '2'\n",
       "\\end{enumerate*}\n"
      ],
      "text/markdown": [
       "1. 2\n",
       "2. 2\n",
       "3. 1\n",
       "4. 2\n",
       "5. 2\n",
       "6. 2\n",
       "\n",
       "\n",
       "\n",
       "**Levels**: 1. '0'\n",
       "2. '1'\n",
       "3. '2'\n",
       "\n",
       "\n"
      ],
      "text/plain": [
       "[1] 2 2 1 2 2 2\n",
       "Levels: 0 1 2"
      ]
     },
     "metadata": {},
     "output_type": "display_data"
    },
    {
     "data": {
      "text/plain": [
       "           \n",
       "predictions  0  1  2\n",
       "          0 28  1  1\n",
       "          1  1 14  5\n",
       "          2  0  6 23"
      ]
     },
     "metadata": {},
     "output_type": "display_data"
    },
    {
     "data": {
      "text/html": [
       "0.822784810126582"
      ],
      "text/latex": [
       "0.822784810126582"
      ],
      "text/markdown": [
       "0.822784810126582"
      ],
      "text/plain": [
       "[1] 0.8227848"
      ]
     },
     "metadata": {},
     "output_type": "display_data"
    }
   ],
   "source": [
    "# create a multi-class logistic regression model\n",
    "library(nnet)\n",
    "# split the data into training and testing sets\n",
    "set.seed(123)\n",
    "# load the required library\n",
    "library(caret)\n",
    "trainIndex <- createDataPartition(\n",
    "  data$class,\n",
    "  p = .8,\n",
    "  list = FALSE,\n",
    "  times = 1\n",
    ")\n",
    "data_train <- data[trainIndex, ]\n",
    "data_test <- data[-trainIndex, ]\n",
    "\n",
    "# fit the model\n",
    "model <- multinom(class ~ ., data = data_train)\n",
    "summary(model)\n",
    "\n",
    "# make predictions\n",
    "predictions <- predict(model, data_test)\n",
    "head(predictions)\n",
    "\n",
    "# distribution of the predictions and the actual values\n",
    "table(predictions, data_test$class)\n",
    "\n",
    "# calculate the accuracy of the model\n",
    "accuracy <- sum(predictions == data_test$class) / nrow(data_test)\n",
    "\n",
    "# print the accuracy\n",
    "accuracy"
   ]
  },
  {
   "cell_type": "code",
   "execution_count": 41,
   "metadata": {
    "vscode": {
     "languageId": "r"
    }
   },
   "outputs": [
    {
     "name": "stdout",
     "output_type": "stream",
     "text": [
      "# weights:  263\n",
      "initial  value 483.034171 \n",
      "final  value 349.741346 \n",
      "converged\n"
     ]
    },
    {
     "data": {
      "text/html": [
       "<style>\n",
       ".list-inline {list-style: none; margin:0; padding: 0}\n",
       ".list-inline>li {display: inline-block}\n",
       ".list-inline>li:not(:last-child)::after {content: \"\\00b7\"; padding: 0 .5ex}\n",
       "</style>\n",
       "<ol class=list-inline><li>'0'</li><li>'1'</li><li>'2'</li></ol>\n"
      ],
      "text/latex": [
       "\\begin{enumerate*}\n",
       "\\item '0'\n",
       "\\item '1'\n",
       "\\item '2'\n",
       "\\end{enumerate*}\n"
      ],
      "text/markdown": [
       "1. '0'\n",
       "2. '1'\n",
       "3. '2'\n",
       "\n",
       "\n"
      ],
      "text/plain": [
       "[1] \"0\" \"1\" \"2\""
      ]
     },
     "metadata": {},
     "output_type": "display_data"
    },
    {
     "data": {
      "text/html": [
       "<style>\n",
       ".list-inline {list-style: none; margin:0; padding: 0}\n",
       ".list-inline>li {display: inline-block}\n",
       ".list-inline>li:not(:last-child)::after {content: \"\\00b7\"; padding: 0 .5ex}\n",
       "</style>\n",
       "<ol class=list-inline><li>'0'</li><li>'1'</li><li>'2'</li></ol>\n"
      ],
      "text/latex": [
       "\\begin{enumerate*}\n",
       "\\item '0'\n",
       "\\item '1'\n",
       "\\item '2'\n",
       "\\end{enumerate*}\n"
      ],
      "text/markdown": [
       "1. '0'\n",
       "2. '1'\n",
       "3. '2'\n",
       "\n",
       "\n"
      ],
      "text/plain": [
       "[1] \"0\" \"1\" \"2\""
      ]
     },
     "metadata": {},
     "output_type": "display_data"
    },
    {
     "data": {
      "text/plain": [
       "           \n",
       "predictions  0  1  2\n",
       "          2 29 21 29"
      ]
     },
     "metadata": {},
     "output_type": "display_data"
    },
    {
     "data": {
      "text/html": [
       "0.367088607594937"
      ],
      "text/latex": [
       "0.367088607594937"
      ],
      "text/markdown": [
       "0.367088607594937"
      ],
      "text/plain": [
       "[1] 0.3670886"
      ]
     },
     "metadata": {},
     "output_type": "display_data"
    }
   ],
   "source": [
    "# use ann model\n",
    "library(nnet)\n",
    "set.seed(123)\n",
    "\n",
    "model <- nnet(\n",
    "  class ~ .,\n",
    "  data = data_train,\n",
    "  size = 10,\n",
    "  maxit = 1000\n",
    ")\n",
    "# get levels of the class variable\n",
    "levels(data_train$class)\n",
    "levels(data_test$class)\n",
    "\n",
    "# make predictions\n",
    "predictions <- predict(model, data_test, type = \"class\")\n",
    "\n",
    "# distribution of the predictions and the actual values\n",
    "table(predictions, data_test$class)\n",
    "\n",
    "# calculate the accuracy of the model\n",
    "accuracy <- sum(predictions == data_test$class) / nrow(data_test)\n",
    "\n",
    "# print the accuracy\n",
    "accuracy"
   ]
  },
  {
   "cell_type": "code",
   "execution_count": 4,
   "metadata": {
    "vscode": {
     "languageId": "r"
    }
   },
   "outputs": [
    {
     "data": {
      "text/plain": [
       "           \n",
       "predictions  0  1  2\n",
       "          0 29  0  1\n",
       "          1  0 19  7\n",
       "          2  0  2 21"
      ]
     },
     "metadata": {},
     "output_type": "display_data"
    },
    {
     "data": {
      "text/html": [
       "0.873417721518987"
      ],
      "text/latex": [
       "0.873417721518987"
      ],
      "text/markdown": [
       "0.873417721518987"
      ],
      "text/plain": [
       "[1] 0.8734177"
      ]
     },
     "metadata": {},
     "output_type": "display_data"
    }
   ],
   "source": [
    "# use random forest model\n",
    "library(randomForest)\n",
    "\n",
    "set.seed(123)\n",
    "\n",
    "model <- randomForest(\n",
    "  class ~ .,\n",
    "  data = data_train,\n",
    "  ntree = 500\n",
    ")\n",
    "\n",
    "# make predictions\n",
    "predictions <- predict(model, data_test)\n",
    "\n",
    "# distribution of the predictions and the actual values\n",
    "table(predictions, data_test$class)\n",
    "\n",
    "# calculate the accuracy of the model\n",
    "accuracy <- sum(predictions == data_test$class) / nrow(data_test)\n",
    "\n",
    "# print the accuracy\n",
    "accuracy"
   ]
  },
  {
   "cell_type": "code",
   "execution_count": 22,
   "metadata": {
    "vscode": {
     "languageId": "r"
    }
   },
   "outputs": [
    {
     "data": {
      "text/plain": [
       "           \n",
       "predictions  0  1  2\n",
       "          0 28  2  1\n",
       "          1  1 13  6\n",
       "          2  0  6 22"
      ]
     },
     "metadata": {},
     "output_type": "display_data"
    },
    {
     "data": {
      "text/html": [
       "0.79746835443038"
      ],
      "text/latex": [
       "0.79746835443038"
      ],
      "text/markdown": [
       "0.79746835443038"
      ],
      "text/plain": [
       "[1] 0.7974684"
      ]
     },
     "metadata": {},
     "output_type": "display_data"
    }
   ],
   "source": [
    "# SVM\n",
    "library(e1071)\n",
    "\n",
    "set.seed(123)\n",
    "\n",
    "model <- svm(\n",
    "  class ~ .,\n",
    "  data = data_train,\n",
    "  kernel = \"linear\"\n",
    ")\n",
    "\n",
    "# make predictions\n",
    "predictions <- predict(model, data_test)\n",
    "\n",
    "# distribution of the predictions and the actual values\n",
    "table(predictions, data_test$class)\n",
    "\n",
    "# calculate the accuracy of the model\n",
    "accuracy <- sum(predictions == data_test$class) / nrow(data_test)\n",
    "\n",
    "# print the accuracy\n",
    "accuracy\n"
   ]
  }
 ],
 "metadata": {
  "kernelspec": {
   "display_name": "R",
   "language": "R",
   "name": "ir"
  },
  "language_info": {
   "codemirror_mode": "r",
   "file_extension": ".r",
   "mimetype": "text/x-r-source",
   "name": "R",
   "pygments_lexer": "r",
   "version": "4.3.1"
  }
 },
 "nbformat": 4,
 "nbformat_minor": 2
}
