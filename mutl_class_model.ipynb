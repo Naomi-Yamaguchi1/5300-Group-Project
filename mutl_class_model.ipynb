{
 "cells": [
  {
   "cell_type": "code",
   "execution_count": 57,
   "metadata": {
    "vscode": {
     "languageId": "r"
    }
   },
   "outputs": [],
   "source": [
    "library(tidyverse)\n",
    "library(modeldata)\n",
    "library(leaps)\n",
    "library(nnet)\n",
    "library(caret)\n",
    "library(corrplot)\n",
    "library(ISLR)\n",
    "require(boot)\n",
    "library(pROC)\n",
    "library(dplyr)\n",
    "library(randomForest)\n",
    "library(keras)"
   ]
  },
  {
   "cell_type": "code",
   "execution_count": 58,
   "metadata": {
    "vscode": {
     "languageId": "r"
    }
   },
   "outputs": [
    {
     "data": {
      "text/html": [
       "<table class=\"dataframe\">\n",
       "<caption>A data.frame: 6 x 23</caption>\n",
       "<thead>\n",
       "\t<tr><th></th><th scope=col>age</th><th scope=col>sg</th><th scope=col>al</th><th scope=col>su</th><th scope=col>bgr</th><th scope=col>bu</th><th scope=col>sod</th><th scope=col>pot</th><th scope=col>hemo</th><th scope=col>pcv</th><th scope=col>...</th><th scope=col>pc</th><th scope=col>pcc</th><th scope=col>ba</th><th scope=col>htn</th><th scope=col>dm</th><th scope=col>cad</th><th scope=col>appet</th><th scope=col>pe</th><th scope=col>ane</th><th scope=col>class</th></tr>\n",
       "\t<tr><th></th><th scope=col>&lt;dbl&gt;</th><th scope=col>&lt;dbl&gt;</th><th scope=col>&lt;int&gt;</th><th scope=col>&lt;int&gt;</th><th scope=col>&lt;dbl&gt;</th><th scope=col>&lt;dbl&gt;</th><th scope=col>&lt;dbl&gt;</th><th scope=col>&lt;dbl&gt;</th><th scope=col>&lt;dbl&gt;</th><th scope=col>&lt;dbl&gt;</th><th scope=col>...</th><th scope=col>&lt;int&gt;</th><th scope=col>&lt;int&gt;</th><th scope=col>&lt;int&gt;</th><th scope=col>&lt;int&gt;</th><th scope=col>&lt;int&gt;</th><th scope=col>&lt;int&gt;</th><th scope=col>&lt;int&gt;</th><th scope=col>&lt;int&gt;</th><th scope=col>&lt;int&gt;</th><th scope=col>&lt;int&gt;</th></tr>\n",
       "</thead>\n",
       "<tbody>\n",
       "\t<tr><th scope=row>1</th><td>48</td><td>1.020</td><td>1</td><td>0</td><td>121.00</td><td>36</td><td>137.53</td><td>4.63</td><td>15.4</td><td>44</td><td>...</td><td>2</td><td>1</td><td>1</td><td>2</td><td>2</td><td>1</td><td>1</td><td>1</td><td>1</td><td>1</td></tr>\n",
       "\t<tr><th scope=row>2</th><td> 7</td><td>1.020</td><td>4</td><td>0</td><td>148.04</td><td>18</td><td>137.53</td><td>4.63</td><td>11.3</td><td>38</td><td>...</td><td>2</td><td>1</td><td>1</td><td>1</td><td>1</td><td>1</td><td>1</td><td>1</td><td>1</td><td>1</td></tr>\n",
       "\t<tr><th scope=row>3</th><td>62</td><td>1.010</td><td>2</td><td>3</td><td>423.00</td><td>53</td><td>137.53</td><td>4.63</td><td> 9.6</td><td>31</td><td>...</td><td>2</td><td>1</td><td>1</td><td>1</td><td>2</td><td>1</td><td>2</td><td>1</td><td>2</td><td>1</td></tr>\n",
       "\t<tr><th scope=row>4</th><td>48</td><td>1.005</td><td>4</td><td>0</td><td>117.00</td><td>56</td><td>111.00</td><td>2.50</td><td>11.2</td><td>32</td><td>...</td><td>1</td><td>2</td><td>1</td><td>2</td><td>1</td><td>1</td><td>2</td><td>2</td><td>2</td><td>2</td></tr>\n",
       "\t<tr><th scope=row>5</th><td>51</td><td>1.010</td><td>2</td><td>0</td><td>106.00</td><td>26</td><td>137.53</td><td>4.63</td><td>11.6</td><td>35</td><td>...</td><td>2</td><td>1</td><td>1</td><td>1</td><td>1</td><td>1</td><td>1</td><td>1</td><td>1</td><td>1</td></tr>\n",
       "\t<tr><th scope=row>6</th><td>60</td><td>1.015</td><td>3</td><td>0</td><td> 74.00</td><td>25</td><td>142.00</td><td>3.20</td><td>12.2</td><td>39</td><td>...</td><td>2</td><td>1</td><td>1</td><td>2</td><td>2</td><td>1</td><td>1</td><td>2</td><td>1</td><td>1</td></tr>\n",
       "</tbody>\n",
       "</table>\n"
      ],
      "text/latex": [
       "A data.frame: 6 x 23\n",
       "\\begin{tabular}{r|lllllllllllllllllllll}\n",
       "  & age & sg & al & su & bgr & bu & sod & pot & hemo & pcv & ... & pc & pcc & ba & htn & dm & cad & appet & pe & ane & class\\\\\n",
       "  & <dbl> & <dbl> & <int> & <int> & <dbl> & <dbl> & <dbl> & <dbl> & <dbl> & <dbl> & ... & <int> & <int> & <int> & <int> & <int> & <int> & <int> & <int> & <int> & <int>\\\\\n",
       "\\hline\n",
       "\t1 & 48 & 1.020 & 1 & 0 & 121.00 & 36 & 137.53 & 4.63 & 15.4 & 44 & ... & 2 & 1 & 1 & 2 & 2 & 1 & 1 & 1 & 1 & 1\\\\\n",
       "\t2 &  7 & 1.020 & 4 & 0 & 148.04 & 18 & 137.53 & 4.63 & 11.3 & 38 & ... & 2 & 1 & 1 & 1 & 1 & 1 & 1 & 1 & 1 & 1\\\\\n",
       "\t3 & 62 & 1.010 & 2 & 3 & 423.00 & 53 & 137.53 & 4.63 &  9.6 & 31 & ... & 2 & 1 & 1 & 1 & 2 & 1 & 2 & 1 & 2 & 1\\\\\n",
       "\t4 & 48 & 1.005 & 4 & 0 & 117.00 & 56 & 111.00 & 2.50 & 11.2 & 32 & ... & 1 & 2 & 1 & 2 & 1 & 1 & 2 & 2 & 2 & 2\\\\\n",
       "\t5 & 51 & 1.010 & 2 & 0 & 106.00 & 26 & 137.53 & 4.63 & 11.6 & 35 & ... & 2 & 1 & 1 & 1 & 1 & 1 & 1 & 1 & 1 & 1\\\\\n",
       "\t6 & 60 & 1.015 & 3 & 0 &  74.00 & 25 & 142.00 & 3.20 & 12.2 & 39 & ... & 2 & 1 & 1 & 2 & 2 & 1 & 1 & 2 & 1 & 1\\\\\n",
       "\\end{tabular}\n"
      ],
      "text/markdown": [
       "\n",
       "A data.frame: 6 x 23\n",
       "\n",
       "| <!--/--> | age &lt;dbl&gt; | sg &lt;dbl&gt; | al &lt;int&gt; | su &lt;int&gt; | bgr &lt;dbl&gt; | bu &lt;dbl&gt; | sod &lt;dbl&gt; | pot &lt;dbl&gt; | hemo &lt;dbl&gt; | pcv &lt;dbl&gt; | ... ... | pc &lt;int&gt; | pcc &lt;int&gt; | ba &lt;int&gt; | htn &lt;int&gt; | dm &lt;int&gt; | cad &lt;int&gt; | appet &lt;int&gt; | pe &lt;int&gt; | ane &lt;int&gt; | class &lt;int&gt; |\n",
       "|---|---|---|---|---|---|---|---|---|---|---|---|---|---|---|---|---|---|---|---|---|---|\n",
       "| 1 | 48 | 1.020 | 1 | 0 | 121.00 | 36 | 137.53 | 4.63 | 15.4 | 44 | ... | 2 | 1 | 1 | 2 | 2 | 1 | 1 | 1 | 1 | 1 |\n",
       "| 2 |  7 | 1.020 | 4 | 0 | 148.04 | 18 | 137.53 | 4.63 | 11.3 | 38 | ... | 2 | 1 | 1 | 1 | 1 | 1 | 1 | 1 | 1 | 1 |\n",
       "| 3 | 62 | 1.010 | 2 | 3 | 423.00 | 53 | 137.53 | 4.63 |  9.6 | 31 | ... | 2 | 1 | 1 | 1 | 2 | 1 | 2 | 1 | 2 | 1 |\n",
       "| 4 | 48 | 1.005 | 4 | 0 | 117.00 | 56 | 111.00 | 2.50 | 11.2 | 32 | ... | 1 | 2 | 1 | 2 | 1 | 1 | 2 | 2 | 2 | 2 |\n",
       "| 5 | 51 | 1.010 | 2 | 0 | 106.00 | 26 | 137.53 | 4.63 | 11.6 | 35 | ... | 2 | 1 | 1 | 1 | 1 | 1 | 1 | 1 | 1 | 1 |\n",
       "| 6 | 60 | 1.015 | 3 | 0 |  74.00 | 25 | 142.00 | 3.20 | 12.2 | 39 | ... | 2 | 1 | 1 | 2 | 2 | 1 | 1 | 2 | 1 | 1 |\n",
       "\n"
      ],
      "text/plain": [
       "  age sg    al su bgr    bu sod    pot  hemo pcv ... pc pcc ba htn dm cad appet\n",
       "1 48  1.020 1  0  121.00 36 137.53 4.63 15.4 44  ... 2  1   1  2   2  1   1    \n",
       "2  7  1.020 4  0  148.04 18 137.53 4.63 11.3 38  ... 2  1   1  1   1  1   1    \n",
       "3 62  1.010 2  3  423.00 53 137.53 4.63  9.6 31  ... 2  1   1  1   2  1   2    \n",
       "4 48  1.005 4  0  117.00 56 111.00 2.50 11.2 32  ... 1  2   1  2   1  1   2    \n",
       "5 51  1.010 2  0  106.00 26 137.53 4.63 11.6 35  ... 2  1   1  1   1  1   1    \n",
       "6 60  1.015 3  0   74.00 25 142.00 3.20 12.2 39  ... 2  1   1  2   2  1   1    \n",
       "  pe ane class\n",
       "1 1  1   1    \n",
       "2 1  1   1    \n",
       "3 1  2   1    \n",
       "4 2  2   2    \n",
       "5 1  1   1    \n",
       "6 2  1   1    "
      ]
     },
     "metadata": {},
     "output_type": "display_data"
    }
   ],
   "source": [
    "# import the data from the file\n",
    "\n",
    "data <- read.csv(\"data/clean_data/for_model_kidney_disease_multi.csv\")\n",
    "head(data)\n",
    "\n",
    "# transform columns into factors\n",
    "data$class <- as.factor(data$class)"
   ]
  },
  {
   "cell_type": "code",
   "execution_count": 59,
   "metadata": {
    "vscode": {
     "languageId": "r"
    }
   },
   "outputs": [
    {
     "name": "stdout",
     "output_type": "stream",
     "text": [
      "      age        sg        al        su       bgr        bu       sod       pot \n",
      "\"numeric\" \"numeric\" \"integer\" \"integer\" \"numeric\" \"numeric\" \"numeric\" \"numeric\" \n",
      "     hemo       pcv      wbcc      rbcc       rbc        pc       pcc        ba \n",
      "\"numeric\" \"numeric\" \"numeric\" \"numeric\" \"integer\" \"integer\" \"integer\" \"integer\" \n",
      "      htn        dm       cad     appet        pe       ane     class \n",
      "\"integer\" \"integer\" \"integer\" \"integer\" \"integer\" \"integer\"  \"factor\" \n"
     ]
    }
   ],
   "source": [
    "# show list of columns and their types\n",
    "# Getting the types of each column\n",
    "column_types <- sapply(data, class)\n",
    "\n",
    "# Print the column types\n",
    "print(column_types)"
   ]
  },
  {
   "cell_type": "code",
   "execution_count": 60,
   "metadata": {
    "vscode": {
     "languageId": "r"
    }
   },
   "outputs": [
    {
     "data": {
      "text/html": [
       "<table class=\"dataframe\">\n",
       "<caption>A data.frame: 6 x 23</caption>\n",
       "<thead>\n",
       "\t<tr><th></th><th scope=col>age</th><th scope=col>sg</th><th scope=col>al</th><th scope=col>su</th><th scope=col>bgr</th><th scope=col>bu</th><th scope=col>sod</th><th scope=col>pot</th><th scope=col>hemo</th><th scope=col>pcv</th><th scope=col>...</th><th scope=col>pc</th><th scope=col>pcc</th><th scope=col>ba</th><th scope=col>htn</th><th scope=col>dm</th><th scope=col>cad</th><th scope=col>appet</th><th scope=col>pe</th><th scope=col>ane</th><th scope=col>class</th></tr>\n",
       "\t<tr><th></th><th scope=col>&lt;dbl&gt;</th><th scope=col>&lt;dbl&gt;</th><th scope=col>&lt;fct&gt;</th><th scope=col>&lt;fct&gt;</th><th scope=col>&lt;dbl&gt;</th><th scope=col>&lt;dbl&gt;</th><th scope=col>&lt;dbl&gt;</th><th scope=col>&lt;dbl&gt;</th><th scope=col>&lt;dbl&gt;</th><th scope=col>&lt;dbl&gt;</th><th scope=col>...</th><th scope=col>&lt;fct&gt;</th><th scope=col>&lt;fct&gt;</th><th scope=col>&lt;fct&gt;</th><th scope=col>&lt;fct&gt;</th><th scope=col>&lt;fct&gt;</th><th scope=col>&lt;fct&gt;</th><th scope=col>&lt;fct&gt;</th><th scope=col>&lt;fct&gt;</th><th scope=col>&lt;fct&gt;</th><th scope=col>&lt;fct&gt;</th></tr>\n",
       "</thead>\n",
       "<tbody>\n",
       "\t<tr><th scope=row>1</th><td>48</td><td>1.020</td><td>1</td><td>0</td><td>121.00</td><td>36</td><td>137.53</td><td>4.63</td><td>15.4</td><td>44</td><td>...</td><td>2</td><td>1</td><td>1</td><td>2</td><td>2</td><td>1</td><td>1</td><td>1</td><td>1</td><td>1</td></tr>\n",
       "\t<tr><th scope=row>2</th><td> 7</td><td>1.020</td><td>4</td><td>0</td><td>148.04</td><td>18</td><td>137.53</td><td>4.63</td><td>11.3</td><td>38</td><td>...</td><td>2</td><td>1</td><td>1</td><td>1</td><td>1</td><td>1</td><td>1</td><td>1</td><td>1</td><td>1</td></tr>\n",
       "\t<tr><th scope=row>3</th><td>62</td><td>1.010</td><td>2</td><td>3</td><td>423.00</td><td>53</td><td>137.53</td><td>4.63</td><td> 9.6</td><td>31</td><td>...</td><td>2</td><td>1</td><td>1</td><td>1</td><td>2</td><td>1</td><td>2</td><td>1</td><td>2</td><td>1</td></tr>\n",
       "\t<tr><th scope=row>4</th><td>48</td><td>1.005</td><td>4</td><td>0</td><td>117.00</td><td>56</td><td>111.00</td><td>2.50</td><td>11.2</td><td>32</td><td>...</td><td>1</td><td>2</td><td>1</td><td>2</td><td>1</td><td>1</td><td>2</td><td>2</td><td>2</td><td>2</td></tr>\n",
       "\t<tr><th scope=row>5</th><td>51</td><td>1.010</td><td>2</td><td>0</td><td>106.00</td><td>26</td><td>137.53</td><td>4.63</td><td>11.6</td><td>35</td><td>...</td><td>2</td><td>1</td><td>1</td><td>1</td><td>1</td><td>1</td><td>1</td><td>1</td><td>1</td><td>1</td></tr>\n",
       "\t<tr><th scope=row>6</th><td>60</td><td>1.015</td><td>3</td><td>0</td><td> 74.00</td><td>25</td><td>142.00</td><td>3.20</td><td>12.2</td><td>39</td><td>...</td><td>2</td><td>1</td><td>1</td><td>2</td><td>2</td><td>1</td><td>1</td><td>2</td><td>1</td><td>1</td></tr>\n",
       "</tbody>\n",
       "</table>\n"
      ],
      "text/latex": [
       "A data.frame: 6 x 23\n",
       "\\begin{tabular}{r|lllllllllllllllllllll}\n",
       "  & age & sg & al & su & bgr & bu & sod & pot & hemo & pcv & ... & pc & pcc & ba & htn & dm & cad & appet & pe & ane & class\\\\\n",
       "  & <dbl> & <dbl> & <fct> & <fct> & <dbl> & <dbl> & <dbl> & <dbl> & <dbl> & <dbl> & ... & <fct> & <fct> & <fct> & <fct> & <fct> & <fct> & <fct> & <fct> & <fct> & <fct>\\\\\n",
       "\\hline\n",
       "\t1 & 48 & 1.020 & 1 & 0 & 121.00 & 36 & 137.53 & 4.63 & 15.4 & 44 & ... & 2 & 1 & 1 & 2 & 2 & 1 & 1 & 1 & 1 & 1\\\\\n",
       "\t2 &  7 & 1.020 & 4 & 0 & 148.04 & 18 & 137.53 & 4.63 & 11.3 & 38 & ... & 2 & 1 & 1 & 1 & 1 & 1 & 1 & 1 & 1 & 1\\\\\n",
       "\t3 & 62 & 1.010 & 2 & 3 & 423.00 & 53 & 137.53 & 4.63 &  9.6 & 31 & ... & 2 & 1 & 1 & 1 & 2 & 1 & 2 & 1 & 2 & 1\\\\\n",
       "\t4 & 48 & 1.005 & 4 & 0 & 117.00 & 56 & 111.00 & 2.50 & 11.2 & 32 & ... & 1 & 2 & 1 & 2 & 1 & 1 & 2 & 2 & 2 & 2\\\\\n",
       "\t5 & 51 & 1.010 & 2 & 0 & 106.00 & 26 & 137.53 & 4.63 & 11.6 & 35 & ... & 2 & 1 & 1 & 1 & 1 & 1 & 1 & 1 & 1 & 1\\\\\n",
       "\t6 & 60 & 1.015 & 3 & 0 &  74.00 & 25 & 142.00 & 3.20 & 12.2 & 39 & ... & 2 & 1 & 1 & 2 & 2 & 1 & 1 & 2 & 1 & 1\\\\\n",
       "\\end{tabular}\n"
      ],
      "text/markdown": [
       "\n",
       "A data.frame: 6 x 23\n",
       "\n",
       "| <!--/--> | age &lt;dbl&gt; | sg &lt;dbl&gt; | al &lt;fct&gt; | su &lt;fct&gt; | bgr &lt;dbl&gt; | bu &lt;dbl&gt; | sod &lt;dbl&gt; | pot &lt;dbl&gt; | hemo &lt;dbl&gt; | pcv &lt;dbl&gt; | ... ... | pc &lt;fct&gt; | pcc &lt;fct&gt; | ba &lt;fct&gt; | htn &lt;fct&gt; | dm &lt;fct&gt; | cad &lt;fct&gt; | appet &lt;fct&gt; | pe &lt;fct&gt; | ane &lt;fct&gt; | class &lt;fct&gt; |\n",
       "|---|---|---|---|---|---|---|---|---|---|---|---|---|---|---|---|---|---|---|---|---|---|\n",
       "| 1 | 48 | 1.020 | 1 | 0 | 121.00 | 36 | 137.53 | 4.63 | 15.4 | 44 | ... | 2 | 1 | 1 | 2 | 2 | 1 | 1 | 1 | 1 | 1 |\n",
       "| 2 |  7 | 1.020 | 4 | 0 | 148.04 | 18 | 137.53 | 4.63 | 11.3 | 38 | ... | 2 | 1 | 1 | 1 | 1 | 1 | 1 | 1 | 1 | 1 |\n",
       "| 3 | 62 | 1.010 | 2 | 3 | 423.00 | 53 | 137.53 | 4.63 |  9.6 | 31 | ... | 2 | 1 | 1 | 1 | 2 | 1 | 2 | 1 | 2 | 1 |\n",
       "| 4 | 48 | 1.005 | 4 | 0 | 117.00 | 56 | 111.00 | 2.50 | 11.2 | 32 | ... | 1 | 2 | 1 | 2 | 1 | 1 | 2 | 2 | 2 | 2 |\n",
       "| 5 | 51 | 1.010 | 2 | 0 | 106.00 | 26 | 137.53 | 4.63 | 11.6 | 35 | ... | 2 | 1 | 1 | 1 | 1 | 1 | 1 | 1 | 1 | 1 |\n",
       "| 6 | 60 | 1.015 | 3 | 0 |  74.00 | 25 | 142.00 | 3.20 | 12.2 | 39 | ... | 2 | 1 | 1 | 2 | 2 | 1 | 1 | 2 | 1 | 1 |\n",
       "\n"
      ],
      "text/plain": [
       "  age sg    al su bgr    bu sod    pot  hemo pcv ... pc pcc ba htn dm cad appet\n",
       "1 48  1.020 1  0  121.00 36 137.53 4.63 15.4 44  ... 2  1   1  2   2  1   1    \n",
       "2  7  1.020 4  0  148.04 18 137.53 4.63 11.3 38  ... 2  1   1  1   1  1   1    \n",
       "3 62  1.010 2  3  423.00 53 137.53 4.63  9.6 31  ... 2  1   1  1   2  1   2    \n",
       "4 48  1.005 4  0  117.00 56 111.00 2.50 11.2 32  ... 1  2   1  2   1  1   2    \n",
       "5 51  1.010 2  0  106.00 26 137.53 4.63 11.6 35  ... 2  1   1  1   1  1   1    \n",
       "6 60  1.015 3  0   74.00 25 142.00 3.20 12.2 39  ... 2  1   1  2   2  1   1    \n",
       "  pe ane class\n",
       "1 1  1   1    \n",
       "2 1  1   1    \n",
       "3 1  2   1    \n",
       "4 2  2   2    \n",
       "5 1  1   1    \n",
       "6 2  1   1    "
      ]
     },
     "metadata": {},
     "output_type": "display_data"
    }
   ],
   "source": [
    "# cast the following categorical types into factors\n",
    "# al, su, rbc, pc, pcc, ba, htn, dm, cad, appet, pe, ane, class\n",
    "factor_columns <- c(\"al\", \"su\", \"rbc\", \"pc\", \"pcc\", \"ba\", \"htn\", \"dm\", \"cad\", \"appet\", \"pe\", \"ane\", \"class\")\n",
    "data[factor_columns] <- lapply(data[factor_columns], factor)\n",
    "head(data)"
   ]
  },
  {
   "cell_type": "code",
   "execution_count": 61,
   "metadata": {
    "vscode": {
     "languageId": "r"
    }
   },
   "outputs": [
    {
     "name": "stdout",
     "output_type": "stream",
     "text": [
      "[1] 321  23\n",
      "[1] 79 23\n"
     ]
    },
    {
     "data": {
      "text/plain": [
       "\n",
       "  0   1   2 \n",
       "116  87 118 "
      ]
     },
     "metadata": {},
     "output_type": "display_data"
    },
    {
     "data": {
      "text/plain": [
       "\n",
       " 0  1  2 \n",
       "29 21 29 "
      ]
     },
     "metadata": {},
     "output_type": "display_data"
    }
   ],
   "source": [
    "# train test split\n",
    "set.seed(123)\n",
    "train_index <- createDataPartition(\n",
    "  data$class,\n",
    "  p = .8,\n",
    "  list = FALSE,\n",
    "  times = 1\n",
    ")\n",
    "data_train <- data[train_index, ]\n",
    "data_test <- data[-train_index, ]\n",
    "print(dim(data_train))\n",
    "print(dim(data_test))\n",
    "# show label distribution\n",
    "table(data_train$class)\n",
    "table(data_test$class)"
   ]
  },
  {
   "cell_type": "code",
   "execution_count": 62,
   "metadata": {
    "vscode": {
     "languageId": "r"
    }
   },
   "outputs": [
    {
     "data": {
      "text/html": [
       "<table class=\"dataframe\">\n",
       "<caption>A data.frame: 6 x 43</caption>\n",
       "<thead>\n",
       "\t<tr><th></th><th scope=col>age</th><th scope=col>sg</th><th scope=col>bgr</th><th scope=col>bu</th><th scope=col>sod</th><th scope=col>pot</th><th scope=col>hemo</th><th scope=col>pcv</th><th scope=col>wbcc</th><th scope=col>rbcc</th><th scope=col>...</th><th scope=col>dm.2</th><th scope=col>cad.1</th><th scope=col>cad.2</th><th scope=col>appet.1</th><th scope=col>appet.2</th><th scope=col>pe.1</th><th scope=col>pe.2</th><th scope=col>ane.1</th><th scope=col>ane.2</th><th scope=col>class</th></tr>\n",
       "\t<tr><th></th><th scope=col>&lt;dbl&gt;</th><th scope=col>&lt;dbl&gt;</th><th scope=col>&lt;dbl&gt;</th><th scope=col>&lt;dbl&gt;</th><th scope=col>&lt;dbl&gt;</th><th scope=col>&lt;dbl&gt;</th><th scope=col>&lt;dbl&gt;</th><th scope=col>&lt;dbl&gt;</th><th scope=col>&lt;dbl&gt;</th><th scope=col>&lt;dbl&gt;</th><th scope=col>...</th><th scope=col>&lt;dbl&gt;</th><th scope=col>&lt;dbl&gt;</th><th scope=col>&lt;dbl&gt;</th><th scope=col>&lt;dbl&gt;</th><th scope=col>&lt;dbl&gt;</th><th scope=col>&lt;dbl&gt;</th><th scope=col>&lt;dbl&gt;</th><th scope=col>&lt;dbl&gt;</th><th scope=col>&lt;dbl&gt;</th><th scope=col>&lt;fct&gt;</th></tr>\n",
       "</thead>\n",
       "<tbody>\n",
       "\t<tr><th scope=row>1</th><td>-0.2391673563</td><td> 0.3998749</td><td>-0.35177930</td><td>-0.45231143</td><td> 0.01866534</td><td> 0.02212741</td><td> 1.05457491</td><td> 0.63858418</td><td>-0.21888663</td><td> 0.586992354</td><td>...</td><td>1</td><td>1</td><td>0</td><td>1</td><td>0</td><td>1</td><td>0</td><td>1</td><td>0</td><td>1</td></tr>\n",
       "\t<tr><th scope=row>2</th><td>-2.6889537767</td><td> 0.3998749</td><td> 0.01196177</td><td>-0.81817661</td><td> 0.01866534</td><td> 0.02212741</td><td>-0.45381081</td><td>-0.09762624</td><td>-0.96848682</td><td> 0.006495483</td><td>...</td><td>0</td><td>1</td><td>0</td><td>1</td><td>0</td><td>1</td><td>0</td><td>1</td><td>0</td><td>1</td></tr>\n",
       "\t<tr><th scope=row>6</th><td> 0.4778433034</td><td>-0.5370582</td><td>-0.98402154</td><td>-0.67589571</td><td> 0.47399228</td><td>-0.68372017</td><td>-0.12270175</td><td> 0.02507550</td><td>-0.21888663</td><td>-0.360757640</td><td>...</td><td>1</td><td>1</td><td>0</td><td>1</td><td>0</td><td>0</td><td>1</td><td>1</td><td>0</td><td>1</td></tr>\n",
       "\t<tr><th scope=row>7</th><td> 0.9558504098</td><td>-1.4739914</td><td>-0.63427051</td><td>-0.08644625</td><td>-3.39679602</td><td>-0.28884040</td><td>-0.04912196</td><td>-0.34302971</td><td> 0.03352874</td><td> 0.006495483</td><td>...</td><td>0</td><td>1</td><td>0</td><td>1</td><td>0</td><td>1</td><td>0</td><td>1</td><td>0</td><td>2</td></tr>\n",
       "\t<tr><th scope=row>8</th><td>-1.6731886756</td><td>-0.5370582</td><td> 3.53583788</td><td>-0.55394065</td><td> 0.01866534</td><td> 0.02212741</td><td>-0.04912196</td><td> 0.63858418</td><td>-0.59368672</td><td> 0.350054856</td><td>...</td><td>1</td><td>1</td><td>0</td><td>1</td><td>0</td><td>0</td><td>1</td><td>1</td><td>0</td><td>1</td></tr>\n",
       "\t<tr><th scope=row>9</th><td>-0.0001638031</td><td>-0.5370582</td><td>-0.12309593</td><td> 0.03550880</td><td> 0.01866534</td><td> 0.02212741</td><td>-0.63776029</td><td>-0.71113492</td><td> 0.53071356</td><td>-0.834632637</td><td>...</td><td>1</td><td>1</td><td>0</td><td>1</td><td>0</td><td>1</td><td>0</td><td>0</td><td>1</td><td>1</td></tr>\n",
       "</tbody>\n",
       "</table>\n"
      ],
      "text/latex": [
       "A data.frame: 6 x 43\n",
       "\\begin{tabular}{r|lllllllllllllllllllll}\n",
       "  & age & sg & bgr & bu & sod & pot & hemo & pcv & wbcc & rbcc & ... & dm.2 & cad.1 & cad.2 & appet.1 & appet.2 & pe.1 & pe.2 & ane.1 & ane.2 & class\\\\\n",
       "  & <dbl> & <dbl> & <dbl> & <dbl> & <dbl> & <dbl> & <dbl> & <dbl> & <dbl> & <dbl> & ... & <dbl> & <dbl> & <dbl> & <dbl> & <dbl> & <dbl> & <dbl> & <dbl> & <dbl> & <fct>\\\\\n",
       "\\hline\n",
       "\t1 & -0.2391673563 &  0.3998749 & -0.35177930 & -0.45231143 &  0.01866534 &  0.02212741 &  1.05457491 &  0.63858418 & -0.21888663 &  0.586992354 & ... & 1 & 1 & 0 & 1 & 0 & 1 & 0 & 1 & 0 & 1\\\\\n",
       "\t2 & -2.6889537767 &  0.3998749 &  0.01196177 & -0.81817661 &  0.01866534 &  0.02212741 & -0.45381081 & -0.09762624 & -0.96848682 &  0.006495483 & ... & 0 & 1 & 0 & 1 & 0 & 1 & 0 & 1 & 0 & 1\\\\\n",
       "\t6 &  0.4778433034 & -0.5370582 & -0.98402154 & -0.67589571 &  0.47399228 & -0.68372017 & -0.12270175 &  0.02507550 & -0.21888663 & -0.360757640 & ... & 1 & 1 & 0 & 1 & 0 & 0 & 1 & 1 & 0 & 1\\\\\n",
       "\t7 &  0.9558504098 & -1.4739914 & -0.63427051 & -0.08644625 & -3.39679602 & -0.28884040 & -0.04912196 & -0.34302971 &  0.03352874 &  0.006495483 & ... & 0 & 1 & 0 & 1 & 0 & 1 & 0 & 1 & 0 & 2\\\\\n",
       "\t8 & -1.6731886756 & -0.5370582 &  3.53583788 & -0.55394065 &  0.01866534 &  0.02212741 & -0.04912196 &  0.63858418 & -0.59368672 &  0.350054856 & ... & 1 & 1 & 0 & 1 & 0 & 0 & 1 & 1 & 0 & 1\\\\\n",
       "\t9 & -0.0001638031 & -0.5370582 & -0.12309593 &  0.03550880 &  0.01866534 &  0.02212741 & -0.63776029 & -0.71113492 &  0.53071356 & -0.834632637 & ... & 1 & 1 & 0 & 1 & 0 & 1 & 0 & 0 & 1 & 1\\\\\n",
       "\\end{tabular}\n"
      ],
      "text/markdown": [
       "\n",
       "A data.frame: 6 x 43\n",
       "\n",
       "| <!--/--> | age &lt;dbl&gt; | sg &lt;dbl&gt; | bgr &lt;dbl&gt; | bu &lt;dbl&gt; | sod &lt;dbl&gt; | pot &lt;dbl&gt; | hemo &lt;dbl&gt; | pcv &lt;dbl&gt; | wbcc &lt;dbl&gt; | rbcc &lt;dbl&gt; | ... ... | dm.2 &lt;dbl&gt; | cad.1 &lt;dbl&gt; | cad.2 &lt;dbl&gt; | appet.1 &lt;dbl&gt; | appet.2 &lt;dbl&gt; | pe.1 &lt;dbl&gt; | pe.2 &lt;dbl&gt; | ane.1 &lt;dbl&gt; | ane.2 &lt;dbl&gt; | class &lt;fct&gt; |\n",
       "|---|---|---|---|---|---|---|---|---|---|---|---|---|---|---|---|---|---|---|---|---|---|\n",
       "| 1 | -0.2391673563 |  0.3998749 | -0.35177930 | -0.45231143 |  0.01866534 |  0.02212741 |  1.05457491 |  0.63858418 | -0.21888663 |  0.586992354 | ... | 1 | 1 | 0 | 1 | 0 | 1 | 0 | 1 | 0 | 1 |\n",
       "| 2 | -2.6889537767 |  0.3998749 |  0.01196177 | -0.81817661 |  0.01866534 |  0.02212741 | -0.45381081 | -0.09762624 | -0.96848682 |  0.006495483 | ... | 0 | 1 | 0 | 1 | 0 | 1 | 0 | 1 | 0 | 1 |\n",
       "| 6 |  0.4778433034 | -0.5370582 | -0.98402154 | -0.67589571 |  0.47399228 | -0.68372017 | -0.12270175 |  0.02507550 | -0.21888663 | -0.360757640 | ... | 1 | 1 | 0 | 1 | 0 | 0 | 1 | 1 | 0 | 1 |\n",
       "| 7 |  0.9558504098 | -1.4739914 | -0.63427051 | -0.08644625 | -3.39679602 | -0.28884040 | -0.04912196 | -0.34302971 |  0.03352874 |  0.006495483 | ... | 0 | 1 | 0 | 1 | 0 | 1 | 0 | 1 | 0 | 2 |\n",
       "| 8 | -1.6731886756 | -0.5370582 |  3.53583788 | -0.55394065 |  0.01866534 |  0.02212741 | -0.04912196 |  0.63858418 | -0.59368672 |  0.350054856 | ... | 1 | 1 | 0 | 1 | 0 | 0 | 1 | 1 | 0 | 1 |\n",
       "| 9 | -0.0001638031 | -0.5370582 | -0.12309593 |  0.03550880 |  0.01866534 |  0.02212741 | -0.63776029 | -0.71113492 |  0.53071356 | -0.834632637 | ... | 1 | 1 | 0 | 1 | 0 | 1 | 0 | 0 | 1 | 1 |\n",
       "\n"
      ],
      "text/plain": [
       "  age           sg         bgr         bu          sod         pot        \n",
       "1 -0.2391673563  0.3998749 -0.35177930 -0.45231143  0.01866534  0.02212741\n",
       "2 -2.6889537767  0.3998749  0.01196177 -0.81817661  0.01866534  0.02212741\n",
       "6  0.4778433034 -0.5370582 -0.98402154 -0.67589571  0.47399228 -0.68372017\n",
       "7  0.9558504098 -1.4739914 -0.63427051 -0.08644625 -3.39679602 -0.28884040\n",
       "8 -1.6731886756 -0.5370582  3.53583788 -0.55394065  0.01866534  0.02212741\n",
       "9 -0.0001638031 -0.5370582 -0.12309593  0.03550880  0.01866534  0.02212741\n",
       "  hemo        pcv         wbcc        rbcc         ... dm.2 cad.1 cad.2 appet.1\n",
       "1  1.05457491  0.63858418 -0.21888663  0.586992354 ... 1    1     0     1      \n",
       "2 -0.45381081 -0.09762624 -0.96848682  0.006495483 ... 0    1     0     1      \n",
       "6 -0.12270175  0.02507550 -0.21888663 -0.360757640 ... 1    1     0     1      \n",
       "7 -0.04912196 -0.34302971  0.03352874  0.006495483 ... 0    1     0     1      \n",
       "8 -0.04912196  0.63858418 -0.59368672  0.350054856 ... 1    1     0     1      \n",
       "9 -0.63776029 -0.71113492  0.53071356 -0.834632637 ... 1    1     0     1      \n",
       "  appet.2 pe.1 pe.2 ane.1 ane.2 class\n",
       "1 0       1    0    1     0     1    \n",
       "2 0       1    0    1     0     1    \n",
       "6 0       0    1    1     0     1    \n",
       "7 0       1    0    1     0     2    \n",
       "8 0       0    1    1     0     1    \n",
       "9 0       1    0    0     1     1    "
      ]
     },
     "metadata": {},
     "output_type": "display_data"
    },
    {
     "data": {
      "text/html": [
       "<table class=\"dataframe\">\n",
       "<caption>A data.frame: 6 x 43</caption>\n",
       "<thead>\n",
       "\t<tr><th></th><th scope=col>age</th><th scope=col>sg</th><th scope=col>bgr</th><th scope=col>bu</th><th scope=col>sod</th><th scope=col>pot</th><th scope=col>hemo</th><th scope=col>pcv</th><th scope=col>wbcc</th><th scope=col>rbcc</th><th scope=col>...</th><th scope=col>dm.2</th><th scope=col>cad.1</th><th scope=col>cad.2</th><th scope=col>appet.1</th><th scope=col>appet.2</th><th scope=col>pe.1</th><th scope=col>pe.2</th><th scope=col>ane.1</th><th scope=col>ane.2</th><th scope=col>class</th></tr>\n",
       "\t<tr><th></th><th scope=col>&lt;dbl&gt;</th><th scope=col>&lt;dbl&gt;</th><th scope=col>&lt;dbl&gt;</th><th scope=col>&lt;dbl&gt;</th><th scope=col>&lt;dbl&gt;</th><th scope=col>&lt;dbl&gt;</th><th scope=col>&lt;dbl&gt;</th><th scope=col>&lt;dbl&gt;</th><th scope=col>&lt;dbl&gt;</th><th scope=col>&lt;dbl&gt;</th><th scope=col>...</th><th scope=col>&lt;dbl&gt;</th><th scope=col>&lt;dbl&gt;</th><th scope=col>&lt;dbl&gt;</th><th scope=col>&lt;dbl&gt;</th><th scope=col>&lt;dbl&gt;</th><th scope=col>&lt;dbl&gt;</th><th scope=col>&lt;dbl&gt;</th><th scope=col>&lt;dbl&gt;</th><th scope=col>&lt;dbl&gt;</th><th scope=col>&lt;fct&gt;</th></tr>\n",
       "</thead>\n",
       "<tbody>\n",
       "\t<tr><th scope=row>3</th><td> 0.59734508</td><td>-1.4739914</td><td> 3.71071340</td><td>-0.10677210</td><td> 0.01866534</td><td> 0.02212741</td><td>-1.079239035</td><td>-0.95653840</td><td>-0.34381999</td><td> 0.006495483</td><td>...</td><td>1</td><td>1</td><td>0</td><td>0</td><td>1</td><td>1</td><td>0</td><td>0</td><td>1</td><td>1</td></tr>\n",
       "\t<tr><th scope=row>4</th><td>-0.23916736</td><td>-2.4109245</td><td>-0.40558715</td><td>-0.04579457</td><td>-2.68375607</td><td>-1.02923996</td><td>-0.490600707</td><td>-0.83383666</td><td>-0.67697563</td><td>-0.953101387</td><td>...</td><td>0</td><td>1</td><td>0</td><td>0</td><td>1</td><td>0</td><td>1</td><td>0</td><td>1</td><td>2</td></tr>\n",
       "\t<tr><th scope=row>5</th><td>-0.05991469</td><td>-1.4739914</td><td>-0.55355874</td><td>-0.65556987</td><td> 0.01866534</td><td> 0.02212741</td><td>-0.343441124</td><td>-0.46573145</td><td>-0.42710890</td><td>-0.123820141</td><td>...</td><td>0</td><td>1</td><td>0</td><td>1</td><td>0</td><td>1</td><td>0</td><td>1</td><td>0</td><td>1</td></tr>\n",
       "\t<tr><th scope=row>18</th><td>-0.29891824</td><td> 0.3998749</td><td>-0.44594304</td><td> 0.58430657</td><td> 0.16840373</td><td>-0.43692031</td><td>-0.159491647</td><td> 0.01035129</td><td> 0.03352874</td><td> 0.006495483</td><td>...</td><td>0</td><td>1</td><td>0</td><td>0</td><td>1</td><td>1</td><td>0</td><td>1</td><td>0</td><td>2</td></tr>\n",
       "\t<tr><th scope=row>24</th><td>-1.85244134</td><td>-1.4739914</td><td> 0.01196177</td><td>-0.01672861</td><td> 0.01866534</td><td> 0.02212741</td><td>-0.001295096</td><td> 0.01035129</td><td> 0.03352874</td><td> 0.006495483</td><td>...</td><td>0</td><td>1</td><td>0</td><td>0</td><td>1</td><td>1</td><td>0</td><td>0</td><td>1</td><td>2</td></tr>\n",
       "\t<tr><th scope=row>27</th><td> 1.37410663</td><td>-0.5370582</td><td> 0.11903939</td><td>-0.26937884</td><td> 0.27026658</td><td>-0.58500023</td><td>-0.343441124</td><td>-0.46573145</td><td> 0.82222475</td><td>-0.834632637</td><td>...</td><td>1</td><td>1</td><td>0</td><td>0</td><td>1</td><td>1</td><td>0</td><td>1</td><td>0</td><td>2</td></tr>\n",
       "</tbody>\n",
       "</table>\n"
      ],
      "text/latex": [
       "A data.frame: 6 x 43\n",
       "\\begin{tabular}{r|lllllllllllllllllllll}\n",
       "  & age & sg & bgr & bu & sod & pot & hemo & pcv & wbcc & rbcc & ... & dm.2 & cad.1 & cad.2 & appet.1 & appet.2 & pe.1 & pe.2 & ane.1 & ane.2 & class\\\\\n",
       "  & <dbl> & <dbl> & <dbl> & <dbl> & <dbl> & <dbl> & <dbl> & <dbl> & <dbl> & <dbl> & ... & <dbl> & <dbl> & <dbl> & <dbl> & <dbl> & <dbl> & <dbl> & <dbl> & <dbl> & <fct>\\\\\n",
       "\\hline\n",
       "\t3 &  0.59734508 & -1.4739914 &  3.71071340 & -0.10677210 &  0.01866534 &  0.02212741 & -1.079239035 & -0.95653840 & -0.34381999 &  0.006495483 & ... & 1 & 1 & 0 & 0 & 1 & 1 & 0 & 0 & 1 & 1\\\\\n",
       "\t4 & -0.23916736 & -2.4109245 & -0.40558715 & -0.04579457 & -2.68375607 & -1.02923996 & -0.490600707 & -0.83383666 & -0.67697563 & -0.953101387 & ... & 0 & 1 & 0 & 0 & 1 & 0 & 1 & 0 & 1 & 2\\\\\n",
       "\t5 & -0.05991469 & -1.4739914 & -0.55355874 & -0.65556987 &  0.01866534 &  0.02212741 & -0.343441124 & -0.46573145 & -0.42710890 & -0.123820141 & ... & 0 & 1 & 0 & 1 & 0 & 1 & 0 & 1 & 0 & 1\\\\\n",
       "\t18 & -0.29891824 &  0.3998749 & -0.44594304 &  0.58430657 &  0.16840373 & -0.43692031 & -0.159491647 &  0.01035129 &  0.03352874 &  0.006495483 & ... & 0 & 1 & 0 & 0 & 1 & 1 & 0 & 1 & 0 & 2\\\\\n",
       "\t24 & -1.85244134 & -1.4739914 &  0.01196177 & -0.01672861 &  0.01866534 &  0.02212741 & -0.001295096 &  0.01035129 &  0.03352874 &  0.006495483 & ... & 0 & 1 & 0 & 0 & 1 & 1 & 0 & 0 & 1 & 2\\\\\n",
       "\t27 &  1.37410663 & -0.5370582 &  0.11903939 & -0.26937884 &  0.27026658 & -0.58500023 & -0.343441124 & -0.46573145 &  0.82222475 & -0.834632637 & ... & 1 & 1 & 0 & 0 & 1 & 1 & 0 & 1 & 0 & 2\\\\\n",
       "\\end{tabular}\n"
      ],
      "text/markdown": [
       "\n",
       "A data.frame: 6 x 43\n",
       "\n",
       "| <!--/--> | age &lt;dbl&gt; | sg &lt;dbl&gt; | bgr &lt;dbl&gt; | bu &lt;dbl&gt; | sod &lt;dbl&gt; | pot &lt;dbl&gt; | hemo &lt;dbl&gt; | pcv &lt;dbl&gt; | wbcc &lt;dbl&gt; | rbcc &lt;dbl&gt; | ... ... | dm.2 &lt;dbl&gt; | cad.1 &lt;dbl&gt; | cad.2 &lt;dbl&gt; | appet.1 &lt;dbl&gt; | appet.2 &lt;dbl&gt; | pe.1 &lt;dbl&gt; | pe.2 &lt;dbl&gt; | ane.1 &lt;dbl&gt; | ane.2 &lt;dbl&gt; | class &lt;fct&gt; |\n",
       "|---|---|---|---|---|---|---|---|---|---|---|---|---|---|---|---|---|---|---|---|---|---|\n",
       "| 3 |  0.59734508 | -1.4739914 |  3.71071340 | -0.10677210 |  0.01866534 |  0.02212741 | -1.079239035 | -0.95653840 | -0.34381999 |  0.006495483 | ... | 1 | 1 | 0 | 0 | 1 | 1 | 0 | 0 | 1 | 1 |\n",
       "| 4 | -0.23916736 | -2.4109245 | -0.40558715 | -0.04579457 | -2.68375607 | -1.02923996 | -0.490600707 | -0.83383666 | -0.67697563 | -0.953101387 | ... | 0 | 1 | 0 | 0 | 1 | 0 | 1 | 0 | 1 | 2 |\n",
       "| 5 | -0.05991469 | -1.4739914 | -0.55355874 | -0.65556987 |  0.01866534 |  0.02212741 | -0.343441124 | -0.46573145 | -0.42710890 | -0.123820141 | ... | 0 | 1 | 0 | 1 | 0 | 1 | 0 | 1 | 0 | 1 |\n",
       "| 18 | -0.29891824 |  0.3998749 | -0.44594304 |  0.58430657 |  0.16840373 | -0.43692031 | -0.159491647 |  0.01035129 |  0.03352874 |  0.006495483 | ... | 0 | 1 | 0 | 0 | 1 | 1 | 0 | 1 | 0 | 2 |\n",
       "| 24 | -1.85244134 | -1.4739914 |  0.01196177 | -0.01672861 |  0.01866534 |  0.02212741 | -0.001295096 |  0.01035129 |  0.03352874 |  0.006495483 | ... | 0 | 1 | 0 | 0 | 1 | 1 | 0 | 0 | 1 | 2 |\n",
       "| 27 |  1.37410663 | -0.5370582 |  0.11903939 | -0.26937884 |  0.27026658 | -0.58500023 | -0.343441124 | -0.46573145 |  0.82222475 | -0.834632637 | ... | 1 | 1 | 0 | 0 | 1 | 1 | 0 | 1 | 0 | 2 |\n",
       "\n"
      ],
      "text/plain": [
       "   age         sg         bgr         bu          sod         pot        \n",
       "3   0.59734508 -1.4739914  3.71071340 -0.10677210  0.01866534  0.02212741\n",
       "4  -0.23916736 -2.4109245 -0.40558715 -0.04579457 -2.68375607 -1.02923996\n",
       "5  -0.05991469 -1.4739914 -0.55355874 -0.65556987  0.01866534  0.02212741\n",
       "18 -0.29891824  0.3998749 -0.44594304  0.58430657  0.16840373 -0.43692031\n",
       "24 -1.85244134 -1.4739914  0.01196177 -0.01672861  0.01866534  0.02212741\n",
       "27  1.37410663 -0.5370582  0.11903939 -0.26937884  0.27026658 -0.58500023\n",
       "   hemo         pcv         wbcc        rbcc         ... dm.2 cad.1 cad.2\n",
       "3  -1.079239035 -0.95653840 -0.34381999  0.006495483 ... 1    1     0    \n",
       "4  -0.490600707 -0.83383666 -0.67697563 -0.953101387 ... 0    1     0    \n",
       "5  -0.343441124 -0.46573145 -0.42710890 -0.123820141 ... 0    1     0    \n",
       "18 -0.159491647  0.01035129  0.03352874  0.006495483 ... 0    1     0    \n",
       "24 -0.001295096  0.01035129  0.03352874  0.006495483 ... 0    1     0    \n",
       "27 -0.343441124 -0.46573145  0.82222475 -0.834632637 ... 1    1     0    \n",
       "   appet.1 appet.2 pe.1 pe.2 ane.1 ane.2 class\n",
       "3  0       1       1    0    0     1     1    \n",
       "4  0       1       0    1    0     1     2    \n",
       "5  1       0       1    0    1     0     1    \n",
       "18 0       1       1    0    1     0     2    \n",
       "24 0       1       1    0    0     1     2    \n",
       "27 0       1       1    0    1     0     2    "
      ]
     },
     "metadata": {},
     "output_type": "display_data"
    }
   ],
   "source": [
    "# preprocess the data\n",
    "data_train_numeric <- data_train[, sapply(data_train, is.numeric)]\n",
    "data_test_numeric <- data_test[, sapply(data_test, is.numeric)]\n",
    "# Pre-processing steps to handle numerical data\n",
    "pre_numerical <- preProcess(\n",
    "  data_train_numeric,\n",
    "  method = c(\"center\", \"scale\")\n",
    ")\n",
    "\n",
    "# Transforming the data using pre-processing object\n",
    "train_transformed_numerical <- predict(\n",
    "  pre_numerical, data_train_numeric\n",
    ")\n",
    "test_transformed_numerical <- predict(\n",
    "  pre_numerical, data_test_numeric\n",
    ")\n",
    "\n",
    "# Handling categorical data by creating dummy variables except for the target variable\n",
    "data_train_categorical <- data_train[, sapply(data_train, is.factor)]\n",
    "data_test_categorical <- data_test[, sapply(data_test, is.factor)]\n",
    "\n",
    "# Pre-processing steps to handle categorical data\n",
    "pre_categorical <- dummyVars(\n",
    "  ~ . -class,\n",
    "  data = data_train_categorical\n",
    ")\n",
    "\n",
    "# Transforming the data using pre-processing object\n",
    "train_dummies <- predict(\n",
    "  pre_categorical, data_train_categorical\n",
    ")\n",
    "test_dummies <- predict(\n",
    "  pre_categorical, data_test_categorical\n",
    ")\n",
    "\n",
    "# # Combining the transformed numerical and categorical data\n",
    "trainFinal <- data.frame(\n",
    "  train_transformed_numerical,\n",
    "  train_dummies,\n",
    "  class = data_train$class\n",
    ")\n",
    "testFinal <- data.frame(\n",
    "  test_transformed_numerical,\n",
    "  test_dummies,\n",
    "  class = data_test$class\n",
    ")\n",
    "head(trainFinal)\n",
    "head(testFinal)"
   ]
  },
  {
   "cell_type": "code",
   "execution_count": 76,
   "metadata": {
    "vscode": {
     "languageId": "r"
    }
   },
   "outputs": [
    {
     "name": "stdout",
     "output_type": "stream",
     "text": [
      "# weights:  132 (86 variable)\n",
      "initial  value 352.654545 \n",
      "iter  10 value 114.401427\n",
      "iter  20 value 96.111512\n",
      "iter  30 value 83.416373\n",
      "iter  40 value 77.052254\n",
      "iter  50 value 73.942843\n",
      "iter  60 value 72.675887\n",
      "iter  70 value 69.337297\n",
      "iter  80 value 68.996246\n",
      "final  value 68.995873 \n",
      "converged\n",
      "Confusion Matrix and Statistics\n",
      "\n",
      "          Reference\n",
      "Prediction  0  1  2\n",
      "         0 29  1  2\n",
      "         1  0 14  4\n",
      "         2  0  6 23\n",
      "\n",
      "Overall Statistics\n",
      "                                          \n",
      "               Accuracy : 0.8354          \n",
      "                 95% CI : (0.7351, 0.9094)\n",
      "    No Information Rate : 0.3671          \n",
      "    P-Value [Acc > NIR] : <2e-16          \n",
      "                                          \n",
      "                  Kappa : 0.7491          \n",
      "                                          \n",
      " Mcnemar's Test P-Value : 0.334           \n",
      "\n",
      "Statistics by Class:\n",
      "\n",
      "                     Class: 0 Class: 1 Class: 2\n",
      "Sensitivity            1.0000   0.6667   0.7931\n",
      "Specificity            0.9400   0.9310   0.8800\n",
      "Pos Pred Value         0.9062   0.7778   0.7931\n",
      "Neg Pred Value         1.0000   0.8852   0.8800\n",
      "Prevalence             0.3671   0.2658   0.3671\n",
      "Detection Rate         0.3671   0.1772   0.2911\n",
      "Detection Prevalence   0.4051   0.2278   0.3671\n",
      "Balanced Accuracy      0.9700   0.7989   0.8366\n",
      "Accuracy: 0.835443\n",
      "Precision: NA\n",
      "Recall: NA\n",
      "F1: NA\n",
      "ROC AUC: 0.907772\n"
     ]
    }
   ],
   "source": [
    "# create a multi-class logistic regression model using all the features\n",
    "# split the data into training and testing sets\n",
    "# load the required library\n",
    "# fit the model\n",
    "model <- multinom(class ~ ., data = trainFinal)\n",
    "\n",
    "prob_predictions <- predict(model, testFinal, type = \"probs\")\n",
    "\n",
    "# make predictions\n",
    "predictions <- predict(model, testFinal)\n",
    "\n",
    "# confusion matrix\n",
    "conf_matrix <- confusionMatrix(\n",
    "  as.factor(predictions), as.factor(testFinal$class)\n",
    ")\n",
    "accuracy <- conf_matrix$overall['Accuracy']\n",
    "precision <- conf_matrix$byClass['Precision']\n",
    "recall <- conf_matrix$byClass['Recall']\n",
    "F1 <- conf_matrix$byClass['F1']\n",
    "\n",
    "# Compute multi-class AUC-ROC\n",
    "roc_auc <- multiclass.roc(\n",
    "  as.factor(testFinal$class),\n",
    "  as.matrix(prob_predictions),\n",
    "  levels = levels(testFinal$class)\n",
    ")\n",
    "\n",
    "# Print the confusion matrix\n",
    "print(conf_matrix)\n",
    "cat(sprintf(\"Accuracy: %f\\n\", accuracy))\n",
    "cat(sprintf(\"Precision: %f\\n\", precision))\n",
    "cat(sprintf(\"Recall: %f\\n\", recall))\n",
    "cat(sprintf(\"F1: %f\\n\", F1))\n",
    "cat(sprintf(\"ROC AUC: %f\\n\", roc_auc$auc))"
   ]
  },
  {
   "cell_type": "code",
   "execution_count": 64,
   "metadata": {
    "vscode": {
     "languageId": "r"
    }
   },
   "outputs": [],
   "source": [
    "# Setting up control using caret's rfe function\n",
    "control <- rfeControl(\n",
    "  functions = rfFuncs, # Using random forest model functions\n",
    "  method = \"cv\", # Cross-validation\n",
    "  number = 10 # Number of folds in cross-validation\n",
    ")\n",
    "\n",
    "results <- rfe(\n",
    "  trainFinal[, -ncol(trainFinal)], # Features\n",
    "  trainFinal$class,\n",
    "  sizes = c(10:20),        # Number of features to include in each iteration\n",
    "  rfeControl = control\n",
    ")\n"
   ]
  },
  {
   "cell_type": "code",
   "execution_count": 65,
   "metadata": {
    "vscode": {
     "languageId": "r"
    }
   },
   "outputs": [
    {
     "name": "stdout",
     "output_type": "stream",
     "text": [
      "\n",
      "Recursive feature selection\n",
      "\n",
      "Outer resampling method: Cross-Validated (10 fold) \n",
      "\n",
      "Resampling performance over subset size:\n",
      "\n",
      " Variables Accuracy  Kappa AccuracySD KappaSD Selected\n",
      "        10   0.8566 0.7827    0.06939 0.10554         \n",
      "        11   0.8565 0.7822    0.06315 0.09626         \n",
      "        12   0.8658 0.7964    0.06805 0.10379         \n",
      "        13   0.8627 0.7918    0.07312 0.11218         \n",
      "        14   0.8661 0.7964    0.07054 0.10884         \n",
      "        15   0.8722 0.8058    0.07865 0.12069         \n",
      "        16   0.8690 0.8006    0.07358 0.11305         \n",
      "        17   0.8783 0.8153    0.06706 0.10231        *\n",
      "        18   0.8660 0.7963    0.08222 0.12575         \n",
      "        19   0.8752 0.8109    0.07572 0.11481         \n",
      "        20   0.8659 0.7963    0.07118 0.10928         \n",
      "        42   0.8534 0.7764    0.07546 0.11706         \n",
      "\n",
      "The top 5 variables (out of 17):\n",
      "   bu, hemo, pcv, sg, rbcc\n",
      "\n"
     ]
    }
   ],
   "source": [
    "# Reviewing results\n",
    "print(results)\n"
   ]
  },
  {
   "cell_type": "code",
   "execution_count": 66,
   "metadata": {
    "vscode": {
     "languageId": "r"
    }
   },
   "outputs": [
    {
     "name": "stdout",
     "output_type": "stream",
     "text": [
      "Confusion Matrix and Statistics\n",
      "\n",
      "          Reference\n",
      "Prediction  0  1  2\n",
      "         0 29  0  1\n",
      "         1  0 16  7\n",
      "         2  0  5 21\n",
      "\n",
      "Overall Statistics\n",
      "                                          \n",
      "               Accuracy : 0.8354          \n",
      "                 95% CI : (0.7351, 0.9094)\n",
      "    No Information Rate : 0.3671          \n",
      "    P-Value [Acc > NIR] : < 2.2e-16       \n",
      "                                          \n",
      "                  Kappa : 0.7516          \n",
      "                                          \n",
      " Mcnemar's Test P-Value : NA              \n",
      "\n",
      "Statistics by Class:\n",
      "\n",
      "                     Class: 0 Class: 1 Class: 2\n",
      "Sensitivity            1.0000   0.7619   0.7241\n",
      "Specificity            0.9800   0.8793   0.9000\n",
      "Pos Pred Value         0.9667   0.6957   0.8077\n",
      "Neg Pred Value         1.0000   0.9107   0.8491\n",
      "Prevalence             0.3671   0.2658   0.3671\n",
      "Detection Rate         0.3671   0.2025   0.2658\n",
      "Detection Prevalence   0.3797   0.2911   0.3291\n",
      "Balanced Accuracy      0.9900   0.8206   0.8121\n",
      "ROC AUC: 0.955679\n"
     ]
    }
   ],
   "source": [
    "# Using the selected features model to make predictions on the test set\n",
    "selected_features <- predictors(results)\n",
    "test_pred <- predict(results$fit, newdata = testFinal[, selected_features])\n",
    "\n",
    "# Calculate Accuracy\n",
    "cm_feature_selection <- confusionMatrix(test_pred, testFinal$class)\n",
    "print(cm_feature_selection)\n",
    "\n",
    "# Compute multi-class AUC-ROC\n",
    "prob_predictions <- predict(results$fit, newdata = testFinal[, selected_features], type = \"prob\")\n",
    "roc_auc <- multiclass.roc(\n",
    "  as.factor(testFinal$class),\n",
    "  as.matrix(prob_predictions),\n",
    "  levels = levels(testFinal$class)\n",
    ")\n",
    "\n",
    "cat(sprintf(\"ROC AUC: %f\\n\", roc_auc$auc))"
   ]
  },
  {
   "cell_type": "code",
   "execution_count": 67,
   "metadata": {
    "vscode": {
     "languageId": "r"
    }
   },
   "outputs": [
    {
     "name": "stdout",
     "output_type": "stream",
     "text": [
      " [1] \"bu\"      \"hemo\"    \"pcv\"     \"sg\"      \"rbcc\"    \"bgr\"     \"sod\"    \n",
      " [8] \"al.0\"    \"htn.2\"   \"htn.1\"   \"dm.1\"    \"dm.2\"    \"appet.1\" \"appet.2\"\n",
      "[15] \"pc.2\"    \"age\"     \"su.0\"   \n"
     ]
    }
   ],
   "source": [
    "print(selected_features)"
   ]
  },
  {
   "cell_type": "code",
   "execution_count": 68,
   "metadata": {
    "vscode": {
     "languageId": "r"
    }
   },
   "outputs": [
    {
     "data": {
      "text/html": [
       "<table class=\"dataframe\">\n",
       "<caption>A data.frame: 6 x 18</caption>\n",
       "<thead>\n",
       "\t<tr><th></th><th scope=col>bu</th><th scope=col>hemo</th><th scope=col>pcv</th><th scope=col>sg</th><th scope=col>rbcc</th><th scope=col>bgr</th><th scope=col>sod</th><th scope=col>al.0</th><th scope=col>htn.2</th><th scope=col>htn.1</th><th scope=col>dm.1</th><th scope=col>dm.2</th><th scope=col>appet.1</th><th scope=col>appet.2</th><th scope=col>pc.2</th><th scope=col>age</th><th scope=col>su.0</th><th scope=col>class</th></tr>\n",
       "\t<tr><th></th><th scope=col>&lt;dbl&gt;</th><th scope=col>&lt;dbl&gt;</th><th scope=col>&lt;dbl&gt;</th><th scope=col>&lt;dbl&gt;</th><th scope=col>&lt;dbl&gt;</th><th scope=col>&lt;dbl&gt;</th><th scope=col>&lt;dbl&gt;</th><th scope=col>&lt;dbl&gt;</th><th scope=col>&lt;dbl&gt;</th><th scope=col>&lt;dbl&gt;</th><th scope=col>&lt;dbl&gt;</th><th scope=col>&lt;dbl&gt;</th><th scope=col>&lt;dbl&gt;</th><th scope=col>&lt;dbl&gt;</th><th scope=col>&lt;dbl&gt;</th><th scope=col>&lt;dbl&gt;</th><th scope=col>&lt;dbl&gt;</th><th scope=col>&lt;fct&gt;</th></tr>\n",
       "</thead>\n",
       "<tbody>\n",
       "\t<tr><th scope=row>1</th><td>-0.45231143</td><td> 1.05457491</td><td> 0.63858418</td><td> 0.3998749</td><td> 0.586992354</td><td>-0.35177930</td><td> 0.01866534</td><td>0</td><td>1</td><td>0</td><td>0</td><td>1</td><td>1</td><td>0</td><td>1</td><td>-0.2391673563</td><td>1</td><td>1</td></tr>\n",
       "\t<tr><th scope=row>2</th><td>-0.81817661</td><td>-0.45381081</td><td>-0.09762624</td><td> 0.3998749</td><td> 0.006495483</td><td> 0.01196177</td><td> 0.01866534</td><td>0</td><td>0</td><td>1</td><td>1</td><td>0</td><td>1</td><td>0</td><td>1</td><td>-2.6889537767</td><td>1</td><td>1</td></tr>\n",
       "\t<tr><th scope=row>6</th><td>-0.67589571</td><td>-0.12270175</td><td> 0.02507550</td><td>-0.5370582</td><td>-0.360757640</td><td>-0.98402154</td><td> 0.47399228</td><td>0</td><td>1</td><td>0</td><td>0</td><td>1</td><td>1</td><td>0</td><td>1</td><td> 0.4778433034</td><td>1</td><td>1</td></tr>\n",
       "\t<tr><th scope=row>7</th><td>-0.08644625</td><td>-0.04912196</td><td>-0.34302971</td><td>-1.4739914</td><td> 0.006495483</td><td>-0.63427051</td><td>-3.39679602</td><td>1</td><td>0</td><td>1</td><td>1</td><td>0</td><td>1</td><td>0</td><td>1</td><td> 0.9558504098</td><td>1</td><td>2</td></tr>\n",
       "\t<tr><th scope=row>8</th><td>-0.55394065</td><td>-0.04912196</td><td> 0.63858418</td><td>-0.5370582</td><td> 0.350054856</td><td> 3.53583788</td><td> 0.01866534</td><td>0</td><td>0</td><td>1</td><td>0</td><td>1</td><td>1</td><td>0</td><td>0</td><td>-1.6731886756</td><td>0</td><td>1</td></tr>\n",
       "\t<tr><th scope=row>9</th><td> 0.03550880</td><td>-0.63776029</td><td>-0.71113492</td><td>-0.5370582</td><td>-0.834632637</td><td>-0.12309593</td><td> 0.01866534</td><td>0</td><td>1</td><td>0</td><td>0</td><td>1</td><td>1</td><td>0</td><td>0</td><td>-0.0001638031</td><td>1</td><td>1</td></tr>\n",
       "</tbody>\n",
       "</table>\n"
      ],
      "text/latex": [
       "A data.frame: 6 x 18\n",
       "\\begin{tabular}{r|llllllllllllllllll}\n",
       "  & bu & hemo & pcv & sg & rbcc & bgr & sod & al.0 & htn.2 & htn.1 & dm.1 & dm.2 & appet.1 & appet.2 & pc.2 & age & su.0 & class\\\\\n",
       "  & <dbl> & <dbl> & <dbl> & <dbl> & <dbl> & <dbl> & <dbl> & <dbl> & <dbl> & <dbl> & <dbl> & <dbl> & <dbl> & <dbl> & <dbl> & <dbl> & <dbl> & <fct>\\\\\n",
       "\\hline\n",
       "\t1 & -0.45231143 &  1.05457491 &  0.63858418 &  0.3998749 &  0.586992354 & -0.35177930 &  0.01866534 & 0 & 1 & 0 & 0 & 1 & 1 & 0 & 1 & -0.2391673563 & 1 & 1\\\\\n",
       "\t2 & -0.81817661 & -0.45381081 & -0.09762624 &  0.3998749 &  0.006495483 &  0.01196177 &  0.01866534 & 0 & 0 & 1 & 1 & 0 & 1 & 0 & 1 & -2.6889537767 & 1 & 1\\\\\n",
       "\t6 & -0.67589571 & -0.12270175 &  0.02507550 & -0.5370582 & -0.360757640 & -0.98402154 &  0.47399228 & 0 & 1 & 0 & 0 & 1 & 1 & 0 & 1 &  0.4778433034 & 1 & 1\\\\\n",
       "\t7 & -0.08644625 & -0.04912196 & -0.34302971 & -1.4739914 &  0.006495483 & -0.63427051 & -3.39679602 & 1 & 0 & 1 & 1 & 0 & 1 & 0 & 1 &  0.9558504098 & 1 & 2\\\\\n",
       "\t8 & -0.55394065 & -0.04912196 &  0.63858418 & -0.5370582 &  0.350054856 &  3.53583788 &  0.01866534 & 0 & 0 & 1 & 0 & 1 & 1 & 0 & 0 & -1.6731886756 & 0 & 1\\\\\n",
       "\t9 &  0.03550880 & -0.63776029 & -0.71113492 & -0.5370582 & -0.834632637 & -0.12309593 &  0.01866534 & 0 & 1 & 0 & 0 & 1 & 1 & 0 & 0 & -0.0001638031 & 1 & 1\\\\\n",
       "\\end{tabular}\n"
      ],
      "text/markdown": [
       "\n",
       "A data.frame: 6 x 18\n",
       "\n",
       "| <!--/--> | bu &lt;dbl&gt; | hemo &lt;dbl&gt; | pcv &lt;dbl&gt; | sg &lt;dbl&gt; | rbcc &lt;dbl&gt; | bgr &lt;dbl&gt; | sod &lt;dbl&gt; | al.0 &lt;dbl&gt; | htn.2 &lt;dbl&gt; | htn.1 &lt;dbl&gt; | dm.1 &lt;dbl&gt; | dm.2 &lt;dbl&gt; | appet.1 &lt;dbl&gt; | appet.2 &lt;dbl&gt; | pc.2 &lt;dbl&gt; | age &lt;dbl&gt; | su.0 &lt;dbl&gt; | class &lt;fct&gt; |\n",
       "|---|---|---|---|---|---|---|---|---|---|---|---|---|---|---|---|---|---|---|\n",
       "| 1 | -0.45231143 |  1.05457491 |  0.63858418 |  0.3998749 |  0.586992354 | -0.35177930 |  0.01866534 | 0 | 1 | 0 | 0 | 1 | 1 | 0 | 1 | -0.2391673563 | 1 | 1 |\n",
       "| 2 | -0.81817661 | -0.45381081 | -0.09762624 |  0.3998749 |  0.006495483 |  0.01196177 |  0.01866534 | 0 | 0 | 1 | 1 | 0 | 1 | 0 | 1 | -2.6889537767 | 1 | 1 |\n",
       "| 6 | -0.67589571 | -0.12270175 |  0.02507550 | -0.5370582 | -0.360757640 | -0.98402154 |  0.47399228 | 0 | 1 | 0 | 0 | 1 | 1 | 0 | 1 |  0.4778433034 | 1 | 1 |\n",
       "| 7 | -0.08644625 | -0.04912196 | -0.34302971 | -1.4739914 |  0.006495483 | -0.63427051 | -3.39679602 | 1 | 0 | 1 | 1 | 0 | 1 | 0 | 1 |  0.9558504098 | 1 | 2 |\n",
       "| 8 | -0.55394065 | -0.04912196 |  0.63858418 | -0.5370582 |  0.350054856 |  3.53583788 |  0.01866534 | 0 | 0 | 1 | 0 | 1 | 1 | 0 | 0 | -1.6731886756 | 0 | 1 |\n",
       "| 9 |  0.03550880 | -0.63776029 | -0.71113492 | -0.5370582 | -0.834632637 | -0.12309593 |  0.01866534 | 0 | 1 | 0 | 0 | 1 | 1 | 0 | 0 | -0.0001638031 | 1 | 1 |\n",
       "\n"
      ],
      "text/plain": [
       "  bu          hemo        pcv         sg         rbcc         bgr        \n",
       "1 -0.45231143  1.05457491  0.63858418  0.3998749  0.586992354 -0.35177930\n",
       "2 -0.81817661 -0.45381081 -0.09762624  0.3998749  0.006495483  0.01196177\n",
       "6 -0.67589571 -0.12270175  0.02507550 -0.5370582 -0.360757640 -0.98402154\n",
       "7 -0.08644625 -0.04912196 -0.34302971 -1.4739914  0.006495483 -0.63427051\n",
       "8 -0.55394065 -0.04912196  0.63858418 -0.5370582  0.350054856  3.53583788\n",
       "9  0.03550880 -0.63776029 -0.71113492 -0.5370582 -0.834632637 -0.12309593\n",
       "  sod         al.0 htn.2 htn.1 dm.1 dm.2 appet.1 appet.2 pc.2 age          \n",
       "1  0.01866534 0    1     0     0    1    1       0       1    -0.2391673563\n",
       "2  0.01866534 0    0     1     1    0    1       0       1    -2.6889537767\n",
       "6  0.47399228 0    1     0     0    1    1       0       1     0.4778433034\n",
       "7 -3.39679602 1    0     1     1    0    1       0       1     0.9558504098\n",
       "8  0.01866534 0    0     1     0    1    1       0       0    -1.6731886756\n",
       "9  0.01866534 0    1     0     0    1    1       0       0    -0.0001638031\n",
       "  su.0 class\n",
       "1 1    1    \n",
       "2 1    1    \n",
       "6 1    1    \n",
       "7 1    2    \n",
       "8 0    1    \n",
       "9 1    1    "
      ]
     },
     "metadata": {},
     "output_type": "display_data"
    },
    {
     "data": {
      "text/html": [
       "<table class=\"dataframe\">\n",
       "<caption>A data.frame: 6 x 18</caption>\n",
       "<thead>\n",
       "\t<tr><th></th><th scope=col>bu</th><th scope=col>hemo</th><th scope=col>pcv</th><th scope=col>sg</th><th scope=col>rbcc</th><th scope=col>bgr</th><th scope=col>sod</th><th scope=col>al.0</th><th scope=col>htn.2</th><th scope=col>htn.1</th><th scope=col>dm.1</th><th scope=col>dm.2</th><th scope=col>appet.1</th><th scope=col>appet.2</th><th scope=col>pc.2</th><th scope=col>age</th><th scope=col>su.0</th><th scope=col>class</th></tr>\n",
       "\t<tr><th></th><th scope=col>&lt;dbl&gt;</th><th scope=col>&lt;dbl&gt;</th><th scope=col>&lt;dbl&gt;</th><th scope=col>&lt;dbl&gt;</th><th scope=col>&lt;dbl&gt;</th><th scope=col>&lt;dbl&gt;</th><th scope=col>&lt;dbl&gt;</th><th scope=col>&lt;dbl&gt;</th><th scope=col>&lt;dbl&gt;</th><th scope=col>&lt;dbl&gt;</th><th scope=col>&lt;dbl&gt;</th><th scope=col>&lt;dbl&gt;</th><th scope=col>&lt;dbl&gt;</th><th scope=col>&lt;dbl&gt;</th><th scope=col>&lt;dbl&gt;</th><th scope=col>&lt;dbl&gt;</th><th scope=col>&lt;dbl&gt;</th><th scope=col>&lt;fct&gt;</th></tr>\n",
       "</thead>\n",
       "<tbody>\n",
       "\t<tr><th scope=row>3</th><td>-0.10677210</td><td>-1.079239035</td><td>-0.95653840</td><td>-1.4739914</td><td> 0.006495483</td><td> 3.71071340</td><td> 0.01866534</td><td>0</td><td>0</td><td>1</td><td>0</td><td>1</td><td>0</td><td>1</td><td>1</td><td> 0.59734508</td><td>0</td><td>1</td></tr>\n",
       "\t<tr><th scope=row>4</th><td>-0.04579457</td><td>-0.490600707</td><td>-0.83383666</td><td>-2.4109245</td><td>-0.953101387</td><td>-0.40558715</td><td>-2.68375607</td><td>0</td><td>1</td><td>0</td><td>1</td><td>0</td><td>0</td><td>1</td><td>0</td><td>-0.23916736</td><td>1</td><td>2</td></tr>\n",
       "\t<tr><th scope=row>5</th><td>-0.65556987</td><td>-0.343441124</td><td>-0.46573145</td><td>-1.4739914</td><td>-0.123820141</td><td>-0.55355874</td><td> 0.01866534</td><td>0</td><td>0</td><td>1</td><td>1</td><td>0</td><td>1</td><td>0</td><td>1</td><td>-0.05991469</td><td>1</td><td>1</td></tr>\n",
       "\t<tr><th scope=row>18</th><td> 0.58430657</td><td>-0.159491647</td><td> 0.01035129</td><td> 0.3998749</td><td> 0.006495483</td><td>-0.44594304</td><td> 0.16840373</td><td>1</td><td>1</td><td>0</td><td>1</td><td>0</td><td>0</td><td>1</td><td>1</td><td>-0.29891824</td><td>1</td><td>2</td></tr>\n",
       "\t<tr><th scope=row>24</th><td>-0.01672861</td><td>-0.001295096</td><td> 0.01035129</td><td>-1.4739914</td><td> 0.006495483</td><td> 0.01196177</td><td> 0.01866534</td><td>1</td><td>0</td><td>1</td><td>1</td><td>0</td><td>0</td><td>1</td><td>1</td><td>-1.85244134</td><td>1</td><td>2</td></tr>\n",
       "\t<tr><th scope=row>27</th><td>-0.26937884</td><td>-0.343441124</td><td>-0.46573145</td><td>-0.5370582</td><td>-0.834632637</td><td> 0.11903939</td><td> 0.27026658</td><td>1</td><td>1</td><td>0</td><td>0</td><td>1</td><td>0</td><td>1</td><td>1</td><td> 1.37410663</td><td>1</td><td>2</td></tr>\n",
       "</tbody>\n",
       "</table>\n"
      ],
      "text/latex": [
       "A data.frame: 6 x 18\n",
       "\\begin{tabular}{r|llllllllllllllllll}\n",
       "  & bu & hemo & pcv & sg & rbcc & bgr & sod & al.0 & htn.2 & htn.1 & dm.1 & dm.2 & appet.1 & appet.2 & pc.2 & age & su.0 & class\\\\\n",
       "  & <dbl> & <dbl> & <dbl> & <dbl> & <dbl> & <dbl> & <dbl> & <dbl> & <dbl> & <dbl> & <dbl> & <dbl> & <dbl> & <dbl> & <dbl> & <dbl> & <dbl> & <fct>\\\\\n",
       "\\hline\n",
       "\t3 & -0.10677210 & -1.079239035 & -0.95653840 & -1.4739914 &  0.006495483 &  3.71071340 &  0.01866534 & 0 & 0 & 1 & 0 & 1 & 0 & 1 & 1 &  0.59734508 & 0 & 1\\\\\n",
       "\t4 & -0.04579457 & -0.490600707 & -0.83383666 & -2.4109245 & -0.953101387 & -0.40558715 & -2.68375607 & 0 & 1 & 0 & 1 & 0 & 0 & 1 & 0 & -0.23916736 & 1 & 2\\\\\n",
       "\t5 & -0.65556987 & -0.343441124 & -0.46573145 & -1.4739914 & -0.123820141 & -0.55355874 &  0.01866534 & 0 & 0 & 1 & 1 & 0 & 1 & 0 & 1 & -0.05991469 & 1 & 1\\\\\n",
       "\t18 &  0.58430657 & -0.159491647 &  0.01035129 &  0.3998749 &  0.006495483 & -0.44594304 &  0.16840373 & 1 & 1 & 0 & 1 & 0 & 0 & 1 & 1 & -0.29891824 & 1 & 2\\\\\n",
       "\t24 & -0.01672861 & -0.001295096 &  0.01035129 & -1.4739914 &  0.006495483 &  0.01196177 &  0.01866534 & 1 & 0 & 1 & 1 & 0 & 0 & 1 & 1 & -1.85244134 & 1 & 2\\\\\n",
       "\t27 & -0.26937884 & -0.343441124 & -0.46573145 & -0.5370582 & -0.834632637 &  0.11903939 &  0.27026658 & 1 & 1 & 0 & 0 & 1 & 0 & 1 & 1 &  1.37410663 & 1 & 2\\\\\n",
       "\\end{tabular}\n"
      ],
      "text/markdown": [
       "\n",
       "A data.frame: 6 x 18\n",
       "\n",
       "| <!--/--> | bu &lt;dbl&gt; | hemo &lt;dbl&gt; | pcv &lt;dbl&gt; | sg &lt;dbl&gt; | rbcc &lt;dbl&gt; | bgr &lt;dbl&gt; | sod &lt;dbl&gt; | al.0 &lt;dbl&gt; | htn.2 &lt;dbl&gt; | htn.1 &lt;dbl&gt; | dm.1 &lt;dbl&gt; | dm.2 &lt;dbl&gt; | appet.1 &lt;dbl&gt; | appet.2 &lt;dbl&gt; | pc.2 &lt;dbl&gt; | age &lt;dbl&gt; | su.0 &lt;dbl&gt; | class &lt;fct&gt; |\n",
       "|---|---|---|---|---|---|---|---|---|---|---|---|---|---|---|---|---|---|---|\n",
       "| 3 | -0.10677210 | -1.079239035 | -0.95653840 | -1.4739914 |  0.006495483 |  3.71071340 |  0.01866534 | 0 | 0 | 1 | 0 | 1 | 0 | 1 | 1 |  0.59734508 | 0 | 1 |\n",
       "| 4 | -0.04579457 | -0.490600707 | -0.83383666 | -2.4109245 | -0.953101387 | -0.40558715 | -2.68375607 | 0 | 1 | 0 | 1 | 0 | 0 | 1 | 0 | -0.23916736 | 1 | 2 |\n",
       "| 5 | -0.65556987 | -0.343441124 | -0.46573145 | -1.4739914 | -0.123820141 | -0.55355874 |  0.01866534 | 0 | 0 | 1 | 1 | 0 | 1 | 0 | 1 | -0.05991469 | 1 | 1 |\n",
       "| 18 |  0.58430657 | -0.159491647 |  0.01035129 |  0.3998749 |  0.006495483 | -0.44594304 |  0.16840373 | 1 | 1 | 0 | 1 | 0 | 0 | 1 | 1 | -0.29891824 | 1 | 2 |\n",
       "| 24 | -0.01672861 | -0.001295096 |  0.01035129 | -1.4739914 |  0.006495483 |  0.01196177 |  0.01866534 | 1 | 0 | 1 | 1 | 0 | 0 | 1 | 1 | -1.85244134 | 1 | 2 |\n",
       "| 27 | -0.26937884 | -0.343441124 | -0.46573145 | -0.5370582 | -0.834632637 |  0.11903939 |  0.27026658 | 1 | 1 | 0 | 0 | 1 | 0 | 1 | 1 |  1.37410663 | 1 | 2 |\n",
       "\n"
      ],
      "text/plain": [
       "   bu          hemo         pcv         sg         rbcc         bgr        \n",
       "3  -0.10677210 -1.079239035 -0.95653840 -1.4739914  0.006495483  3.71071340\n",
       "4  -0.04579457 -0.490600707 -0.83383666 -2.4109245 -0.953101387 -0.40558715\n",
       "5  -0.65556987 -0.343441124 -0.46573145 -1.4739914 -0.123820141 -0.55355874\n",
       "18  0.58430657 -0.159491647  0.01035129  0.3998749  0.006495483 -0.44594304\n",
       "24 -0.01672861 -0.001295096  0.01035129 -1.4739914  0.006495483  0.01196177\n",
       "27 -0.26937884 -0.343441124 -0.46573145 -0.5370582 -0.834632637  0.11903939\n",
       "   sod         al.0 htn.2 htn.1 dm.1 dm.2 appet.1 appet.2 pc.2 age         su.0\n",
       "3   0.01866534 0    0     1     0    1    0       1       1     0.59734508 0   \n",
       "4  -2.68375607 0    1     0     1    0    0       1       0    -0.23916736 1   \n",
       "5   0.01866534 0    0     1     1    0    1       0       1    -0.05991469 1   \n",
       "18  0.16840373 1    1     0     1    0    0       1       1    -0.29891824 1   \n",
       "24  0.01866534 1    0     1     1    0    0       1       1    -1.85244134 1   \n",
       "27  0.27026658 1    1     0     0    1    0       1       1     1.37410663 1   \n",
       "   class\n",
       "3  1    \n",
       "4  2    \n",
       "5  1    \n",
       "18 2    \n",
       "24 2    \n",
       "27 2    "
      ]
     },
     "metadata": {},
     "output_type": "display_data"
    }
   ],
   "source": [
    "# combine the selected features with the target variable\n",
    "trainFinal_selected <- trainFinal[, c(selected_features, \"class\")]\n",
    "testFinal_selected <- testFinal[, c(selected_features, \"class\")]\n",
    "head(trainFinal_selected)\n",
    "head(testFinal_selected)"
   ]
  },
  {
   "cell_type": "code",
   "execution_count": 69,
   "metadata": {
    "vscode": {
     "languageId": "r"
    }
   },
   "outputs": [],
   "source": [
    "\n",
    "# prepare the data for keras\n",
    "# Convert the target variable to 0-indexed integers\n",
    "train_labels <- as.integer(as.factor(trainFinal$class)) - 1  # Convert factors to 0-indexed integers\n",
    "num_classes <- length(unique(train_labels)) # Get the number of unique classes\n",
    "train_labels <- to_categorical(train_labels, num_classes) # Convert to one-hot encoding\n",
    "\n",
    "# # using selected features\n",
    "model <- keras_model_sequential() %>%\n",
    "  layer_dense(\n",
    "    units = 50, activation = \"relu\", input_shape = c(ncol(trainFinal_selected) - 1)\n",
    "  ) %>%\n",
    "  layer_dense(units = num_classes, activation = \"softmax\")\n",
    "\n",
    "# Compile the model\n",
    "model %>% compile(\n",
    "  loss = \"categorical_crossentropy\",\n",
    "  optimizer = \"rmsprop\", # Or optimizer_rmsprop()\n",
    "  metrics = list(\"accuracy\")\n",
    ")\n",
    "\n",
    "# Train the model\n",
    "history <- model %>% fit(\n",
    "  x = as.matrix(trainFinal_selected[, -ncol(trainFinal_selected)]),\n",
    "  y = train_labels,\n",
    "  epochs = 100,\n",
    "  batch_size = 32,\n",
    "  validation_split = 0.2\n",
    ")\n"
   ]
  },
  {
   "cell_type": "code",
   "execution_count": 70,
   "metadata": {
    "vscode": {
     "languageId": "r"
    }
   },
   "outputs": [
    {
     "data": {
      "text/html": [
       "<style>\n",
       ".dl-inline {width: auto; margin:0; padding: 0}\n",
       ".dl-inline>dt, .dl-inline>dd {float: none; width: auto; display: inline-block}\n",
       ".dl-inline>dt::after {content: \":\\0020\"; padding-right: .5ex}\n",
       ".dl-inline>dt:not(:first-of-type) {padding-left: .5ex}\n",
       "</style><dl class=dl-inline><dt>loss</dt><dd>0.456678181886673</dd><dt>accuracy</dt><dd>0.784810125827789</dd></dl>\n"
      ],
      "text/latex": [
       "\\begin{description*}\n",
       "\\item[loss] 0.456678181886673\n",
       "\\item[accuracy] 0.784810125827789\n",
       "\\end{description*}\n"
      ],
      "text/markdown": [
       "loss\n",
       ":   0.456678181886673accuracy\n",
       ":   0.784810125827789\n",
       "\n"
      ],
      "text/plain": [
       "     loss  accuracy \n",
       "0.4566782 0.7848101 "
      ]
     },
     "metadata": {},
     "output_type": "display_data"
    },
    {
     "data": {
      "image/png": "[encoded data removed]",
      "text/plain": [
       "plot without title"
      ]
     },
     "metadata": {
      "image/png": {
       "height": 420,
       "width": 420
      }
     },
     "output_type": "display_data"
    }
   ],
   "source": [
    "# module evaluation\n",
    "# Convert the target variable to 0-indexed integers\n",
    "test_labels <- as.integer(as.factor(testFinal_selected$class)) - 1 # Convert factors to 0-indexed integers\n",
    "\n",
    "# Convert to one-hot encoding\n",
    "test_labels <- to_categorical(test_labels, num_classes)\n",
    "\n",
    "# Evaluate the model\n",
    "model %>% evaluate(\n",
    "  x = as.matrix(testFinal_selected[, -ncol(testFinal_selected)]),\n",
    "  y = test_labels\n",
    ")\n",
    "# Plot the training history\n",
    "plot(history)\n",
    "\n",
    "# Predictions\n",
    "prob_predictions <- model %>% predict(\n",
    "  as.matrix(testFinal_selected[, -ncol(testFinal_selected)])\n",
    ")"
   ]
  },
  {
   "cell_type": "code",
   "execution_count": 71,
   "metadata": {
    "vscode": {
     "languageId": "r"
    }
   },
   "outputs": [
    {
     "name": "stdout",
     "output_type": "stream",
     "text": [
      "Confusion Matrix and Statistics\n",
      "\n",
      "          Reference\n",
      "Prediction  0  1  2\n",
      "         0 29  1  2\n",
      "         1  0 14  4\n",
      "         2  0  6 23\n",
      "\n",
      "Overall Statistics\n",
      "                                          \n",
      "               Accuracy : 0.8354          \n",
      "                 95% CI : (0.7351, 0.9094)\n",
      "    No Information Rate : 0.3671          \n",
      "    P-Value [Acc > NIR] : <2e-16          \n",
      "                                          \n",
      "                  Kappa : 0.7491          \n",
      "                                          \n",
      " Mcnemar's Test P-Value : 0.334           \n",
      "\n",
      "Statistics by Class:\n",
      "\n",
      "                     Class: 0 Class: 1 Class: 2\n",
      "Sensitivity            1.0000   0.6667   0.7931\n",
      "Specificity            0.9400   0.9310   0.8800\n",
      "Pos Pred Value         0.9062   0.7778   0.7931\n",
      "Neg Pred Value         1.0000   0.8852   0.8800\n",
      "Prevalence             0.3671   0.2658   0.3671\n",
      "Detection Rate         0.3671   0.1772   0.2911\n",
      "Detection Prevalence   0.4051   0.2278   0.3671\n",
      "Balanced Accuracy      0.9700   0.7989   0.8366\n",
      "ROC AUC: 0.929996\n"
     ]
    }
   ],
   "source": [
    "# print test metrics\n",
    "# confusion matrix\n",
    "conf_matrix <- confusionMatrix(\n",
    "  as.factor(predictions), as.factor(testFinal_selected$class)\n",
    ")\n",
    "print(conf_matrix)\n",
    "# Check the levels of the response variable\n",
    "response_levels <- levels(testFinal_selected$class)\n",
    "\n",
    "# And your predictor matrix needs to have these column names in the same order\n",
    "colnames(prob_predictions) <- response_levels\n",
    "\n",
    "# Compute multi-class AUC-ROC\n",
    "roc_auc <- multiclass.roc(\n",
    "  as.factor(testFinal_selected$class),\n",
    "  prob_predictions,\n",
    "  levels = levels(testFinal_selected$class)\n",
    ")\n",
    "\n",
    "cat(sprintf(\"ROC AUC: %f\\n\", roc_auc$auc))"
   ]
  },
  {
   "cell_type": "code",
   "execution_count": 72,
   "metadata": {
    "vscode": {
     "languageId": "r"
    }
   },
   "outputs": [
    {
     "name": "stdout",
     "output_type": "stream",
     "text": [
      "Confusion Matrix and Statistics\n",
      "\n",
      "          Reference\n",
      "Prediction  0  1  2\n",
      "         0 29  0  1\n",
      "         1  0 18  7\n",
      "         2  0  3 21\n",
      "\n",
      "Overall Statistics\n",
      "                                          \n",
      "               Accuracy : 0.8608          \n",
      "                 95% CI : (0.7645, 0.9284)\n",
      "    No Information Rate : 0.3671          \n",
      "    P-Value [Acc > NIR] : < 2.2e-16       \n",
      "                                          \n",
      "                  Kappa : 0.7906          \n",
      "                                          \n",
      " Mcnemar's Test P-Value : NA              \n",
      "\n",
      "Statistics by Class:\n",
      "\n",
      "                     Class: 0 Class: 1 Class: 2\n",
      "Sensitivity            1.0000   0.8571   0.7241\n",
      "Specificity            0.9800   0.8793   0.9400\n",
      "Pos Pred Value         0.9667   0.7200   0.8750\n",
      "Neg Pred Value         1.0000   0.9444   0.8545\n",
      "Prevalence             0.3671   0.2658   0.3671\n",
      "Detection Rate         0.3671   0.2278   0.2658\n",
      "Detection Prevalence   0.3797   0.3165   0.3038\n",
      "Balanced Accuracy      0.9900   0.8682   0.8321\n",
      "ROC AUC: 0.959100\n"
     ]
    }
   ],
   "source": [
    "# use random forest model\n",
    "library(randomForest)\n",
    "\n",
    "set.seed(123)\n",
    "\n",
    "model <- randomForest(\n",
    "  class ~ .,\n",
    "  data = trainFinal_selected,\n",
    "  ntree = 500\n",
    ")\n",
    "\n",
    "# make predictions\n",
    "predictions <- predict(model, testFinal_selected)\n",
    "\n",
    "# calculate the cm\n",
    "conf_matrix <- confusionMatrix(\n",
    "  as.factor(predictions), as.factor(testFinal_selected$class)\n",
    ")\n",
    "\n",
    "# print the confusion matrix\n",
    "print(conf_matrix)\n",
    "\n",
    "# Compute multi-class AUC-ROC\n",
    "prob_predictions <- predict(model, testFinal_selected, type = \"prob\")\n",
    "\n",
    "roc_auc <- multiclass.roc(\n",
    "  as.factor(testFinal_selected$class),\n",
    "  as.matrix(prob_predictions),\n",
    "  levels = levels(testFinal_selected$class)\n",
    ")\n",
    "\n",
    "cat(sprintf(\"ROC AUC: %f\\n\", roc_auc$auc))\n"
   ]
  },
  {
   "cell_type": "code",
   "execution_count": 73,
   "metadata": {
    "vscode": {
     "languageId": "r"
    }
   },
   "outputs": [
    {
     "name": "stdout",
     "output_type": "stream",
     "text": [
      "Confusion Matrix and Statistics\n",
      "\n",
      "          Reference\n",
      "Prediction  0  1  2\n",
      "         0 28  2  1\n",
      "         1  1 13  8\n",
      "         2  0  6 20\n",
      "\n",
      "Overall Statistics\n",
      "                                        \n",
      "               Accuracy : 0.7722        \n",
      "                 95% CI : (0.664, 0.859)\n",
      "    No Information Rate : 0.3671        \n",
      "    P-Value [Acc > NIR] : 2.477e-13     \n",
      "                                        \n",
      "                  Kappa : 0.6554        \n",
      "                                        \n",
      " Mcnemar's Test P-Value : 0.6551        \n",
      "\n",
      "Statistics by Class:\n",
      "\n",
      "                     Class: 0 Class: 1 Class: 2\n",
      "Sensitivity            0.9655   0.6190   0.6897\n",
      "Specificity            0.9400   0.8448   0.8800\n",
      "Pos Pred Value         0.9032   0.5909   0.7692\n",
      "Neg Pred Value         0.9792   0.8596   0.8302\n",
      "Prevalence             0.3671   0.2658   0.3671\n",
      "Detection Rate         0.3544   0.1646   0.2532\n",
      "Detection Prevalence   0.3924   0.2785   0.3291\n",
      "Balanced Accuracy      0.9528   0.7319   0.7848\n"
     ]
    }
   ],
   "source": [
    "# SVM\n",
    "library(e1071)\n",
    "\n",
    "model <- svm(\n",
    "  class ~ .,\n",
    "  data = trainFinal_selected,\n",
    "  kernel = \"linear\",\n",
    "  probability = TRUE\n",
    ")\n",
    "\n",
    "# make predictions\n",
    "predictions <- predict(model, testFinal_selected)\n",
    "\n",
    "# calculate the cm\n",
    "conf_matrix <- confusionMatrix(\n",
    "  as.factor(predictions), as.factor(testFinal_selected$class)\n",
    ")\n",
    "\n",
    "# print the confusion matrix\n",
    "print(conf_matrix)"
   ]
  },
  {
   "cell_type": "code",
   "execution_count": 74,
   "metadata": {
    "vscode": {
     "languageId": "r"
    }
   },
   "outputs": [
    {
     "name": "stdout",
     "output_type": "stream",
     "text": [
      "Confusion Matrix and Statistics\n",
      "\n",
      "          Reference\n",
      "Prediction  0  1  2\n",
      "         0 29  3  2\n",
      "         1  0 12 10\n",
      "         2  0  6 17\n",
      "\n",
      "Overall Statistics\n",
      "                                          \n",
      "               Accuracy : 0.7342          \n",
      "                 95% CI : (0.6228, 0.8273)\n",
      "    No Information Rate : 0.3671          \n",
      "    P-Value [Acc > NIR] : 3.595e-11       \n",
      "                                          \n",
      "                  Kappa : 0.5979          \n",
      "                                          \n",
      " Mcnemar's Test P-Value : 0.1116          \n",
      "\n",
      "Statistics by Class:\n",
      "\n",
      "                     Class: 0 Class: 1 Class: 2\n",
      "Sensitivity            1.0000   0.5714   0.5862\n",
      "Specificity            0.9000   0.8276   0.8800\n",
      "Pos Pred Value         0.8529   0.5455   0.7391\n",
      "Neg Pred Value         1.0000   0.8421   0.7857\n",
      "Prevalence             0.3671   0.2658   0.3671\n",
      "Detection Rate         0.3671   0.1519   0.2152\n",
      "Detection Prevalence   0.4304   0.2785   0.2911\n",
      "Balanced Accuracy      0.9500   0.6995   0.7331\n"
     ]
    }
   ],
   "source": [
    "# KNN\n",
    "library(class)\n",
    "\n",
    "set.seed(123)\n",
    "\n",
    "model <- knn(\n",
    "  train = trainFinal_selected[, -ncol(trainFinal_selected)],\n",
    "  test = testFinal_selected[, -ncol(testFinal_selected)],\n",
    "  cl = trainFinal_selected$class,\n",
    "  k = 5\n",
    ")\n",
    "\n",
    "# make predictions\n",
    "predictions <- as.factor(model)\n",
    "\n",
    "# calculate the cm\n",
    "conf_matrix <- confusionMatrix(\n",
    "  as.factor(predictions), as.factor(testFinal_selected$class)\n",
    ")\n",
    "\n",
    "# print the confusion matrix\n",
    "print(conf_matrix)"
   ]
  },
  {
   "cell_type": "code",
   "execution_count": 75,
   "metadata": {
    "vscode": {
     "languageId": "r"
    }
   },
   "outputs": [
    {
     "name": "stdout",
     "output_type": "stream",
     "text": [
      "Confusion Matrix and Statistics\n",
      "\n",
      "          Reference\n",
      "Prediction  0  1  2\n",
      "         0 29 11  9\n",
      "         1  0  6  3\n",
      "         2  0  4 17\n",
      "\n",
      "Overall Statistics\n",
      "                                          \n",
      "               Accuracy : 0.6582          \n",
      "                 95% CI : (0.5429, 0.7613)\n",
      "    No Information Rate : 0.3671          \n",
      "    P-Value [Acc > NIR] : 1.447e-07       \n",
      "                                          \n",
      "                  Kappa : 0.4697          \n",
      "                                          \n",
      " Mcnemar's Test P-Value : 0.0001586       \n",
      "\n",
      "Statistics by Class:\n",
      "\n",
      "                     Class: 0 Class: 1 Class: 2\n",
      "Sensitivity            1.0000  0.28571   0.5862\n",
      "Specificity            0.6000  0.94828   0.9200\n",
      "Pos Pred Value         0.5918  0.66667   0.8095\n",
      "Neg Pred Value         1.0000  0.78571   0.7931\n",
      "Prevalence             0.3671  0.26582   0.3671\n",
      "Detection Rate         0.3671  0.07595   0.2152\n",
      "Detection Prevalence   0.6203  0.11392   0.2658\n",
      "Balanced Accuracy      0.8000  0.61700   0.7531\n"
     ]
    }
   ],
   "source": [
    "# Naive Bayes\n",
    "library(e1071)\n",
    "\n",
    "set.seed(123)\n",
    "\n",
    "model <- naiveBayes(\n",
    "  class ~ .,\n",
    "  data = trainFinal_selected\n",
    ")\n",
    "\n",
    "# make predictions\n",
    "predictions <- predict(model, testFinal_selected)\n",
    "\n",
    "# calculate the cm\n",
    "conf_matrix <- confusionMatrix(\n",
    "  as.factor(predictions), as.factor(testFinal_selected$class)\n",
    ")\n",
    "\n",
    "# print the confusion matrix\n",
    "print(conf_matrix)"
   ]
  }
 ],
 "metadata": {
  "kernelspec": {
   "display_name": "R",
   "language": "R",
   "name": "ir"
  },
  "language_info": {
   "codemirror_mode": "r",
   "file_extension": ".r",
   "mimetype": "text/x-r-source",
   "name": "R",
   "pygments_lexer": "r",
   "version": "4.3.2"
  }
 },
 "nbformat": 4,
 "nbformat_minor": 2
}
